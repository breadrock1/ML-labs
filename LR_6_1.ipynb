{
 "cells": [
  {
   "cell_type": "code",
   "execution_count": 28,
   "metadata": {},
   "outputs": [],
   "source": [
    "#Будем рассматривать задачу классификации текстов на 2 категории: исполняемые группой \"Руки Вверх\" и исполняемые группой \"Ленинград\"."
   ]
  },
  {
   "cell_type": "code",
   "execution_count": 1,
   "metadata": {},
   "outputs": [
    {
     "name": "stdout",
     "output_type": "stream",
     "text": [
      "Requirement already satisfied: nltk in c:\\users\\gamma\\anaconda3\\lib\\site-packages (3.4)\n",
      "Requirement already satisfied: snowballstemmer in c:\\users\\gamma\\anaconda3\\lib\\site-packages (1.2.1)\n",
      "Requirement already satisfied: pymorphy2 in c:\\users\\gamma\\anaconda3\\lib\\site-packages (0.8)\n",
      "Requirement already satisfied: pymystem3 in c:\\users\\gamma\\anaconda3\\lib\\site-packages (0.2.0)\n",
      "Requirement already satisfied: gensim in c:\\users\\gamma\\anaconda3\\lib\\site-packages (3.8.1)\n",
      "Requirement already satisfied: six in c:\\users\\gamma\\anaconda3\\lib\\site-packages (from nltk) (1.12.0)\n",
      "Requirement already satisfied: singledispatch in c:\\users\\gamma\\anaconda3\\lib\\site-packages (from nltk) (3.4.0.3)\n",
      "Requirement already satisfied: pymorphy2-dicts<3.0,>=2.4 in c:\\users\\gamma\\anaconda3\\lib\\site-packages (from pymorphy2) (2.4.393442.3710985)\n",
      "Requirement already satisfied: docopt>=0.6 in c:\\users\\gamma\\anaconda3\\lib\\site-packages (from pymorphy2) (0.6.2)\n",
      "Requirement already satisfied: dawg-python>=0.7 in c:\\users\\gamma\\anaconda3\\lib\\site-packages (from pymorphy2) (0.7.2)\n",
      "Requirement already satisfied: requests in c:\\users\\gamma\\anaconda3\\lib\\site-packages (from pymystem3) (2.21.0)\n",
      "Requirement already satisfied: smart-open>=1.8.1 in c:\\users\\gamma\\anaconda3\\lib\\site-packages (from gensim) (1.9.0)\n",
      "Requirement already satisfied: numpy>=1.11.3 in c:\\users\\gamma\\anaconda3\\lib\\site-packages (from gensim) (1.15.4)\n",
      "Requirement already satisfied: scipy>=0.18.1 in c:\\users\\gamma\\anaconda3\\lib\\site-packages (from gensim) (1.1.0)\n",
      "Requirement already satisfied: chardet<3.1.0,>=3.0.2 in c:\\users\\gamma\\anaconda3\\lib\\site-packages (from requests->pymystem3) (3.0.4)\n",
      "Requirement already satisfied: idna<2.9,>=2.5 in c:\\users\\gamma\\anaconda3\\lib\\site-packages (from requests->pymystem3) (2.8)\n",
      "Requirement already satisfied: certifi>=2017.4.17 in c:\\users\\gamma\\anaconda3\\lib\\site-packages (from requests->pymystem3) (2018.11.29)\n",
      "Requirement already satisfied: urllib3<1.25,>=1.21.1 in c:\\users\\gamma\\anaconda3\\lib\\site-packages (from requests->pymystem3) (1.24.1)\n",
      "Requirement already satisfied: boto3 in c:\\users\\gamma\\anaconda3\\lib\\site-packages (from smart-open>=1.8.1->gensim) (1.10.28)\n",
      "Requirement already satisfied: boto>=2.32 in c:\\users\\gamma\\anaconda3\\lib\\site-packages (from smart-open>=1.8.1->gensim) (2.49.0)\n",
      "Requirement already satisfied: jmespath<1.0.0,>=0.7.1 in c:\\users\\gamma\\anaconda3\\lib\\site-packages (from boto3->smart-open>=1.8.1->gensim) (0.9.4)\n",
      "Requirement already satisfied: botocore<1.14.0,>=1.13.28 in c:\\users\\gamma\\anaconda3\\lib\\site-packages (from boto3->smart-open>=1.8.1->gensim) (1.13.28)\n",
      "Requirement already satisfied: s3transfer<0.3.0,>=0.2.0 in c:\\users\\gamma\\anaconda3\\lib\\site-packages (from boto3->smart-open>=1.8.1->gensim) (0.2.1)\n",
      "Requirement already satisfied: python-dateutil<2.8.1,>=2.1; python_version >= \"2.7\" in c:\\users\\gamma\\anaconda3\\lib\\site-packages (from botocore<1.14.0,>=1.13.28->boto3->smart-open>=1.8.1->gensim) (2.7.5)\n",
      "Requirement already satisfied: docutils<0.16,>=0.10 in c:\\users\\gamma\\anaconda3\\lib\\site-packages (from botocore<1.14.0,>=1.13.28->boto3->smart-open>=1.8.1->gensim) (0.14)\n"
     ]
    }
   ],
   "source": [
    "!pip install nltk snowballstemmer pymorphy2 pymystem3 gensim"
   ]
  },
  {
   "cell_type": "code",
   "execution_count": 2,
   "metadata": {},
   "outputs": [
    {
     "name": "stderr",
     "output_type": "stream",
     "text": [
      "[nltk_data] Downloading package punkt to\n",
      "[nltk_data]     C:\\Users\\Gamma\\AppData\\Roaming\\nltk_data...\n",
      "[nltk_data]   Package punkt is already up-to-date!\n",
      "[nltk_data] Downloading package stopwords to\n",
      "[nltk_data]     C:\\Users\\Gamma\\AppData\\Roaming\\nltk_data...\n",
      "[nltk_data]   Package stopwords is already up-to-date!\n"
     ]
    }
   ],
   "source": [
    "import nltk\n",
    "import pymorphy2\n",
    "nltk.download('punkt')\n",
    "nltk.download('stopwords')\n",
    "morph = pymorphy2.MorphAnalyzer()"
   ]
  },
  {
   "cell_type": "code",
   "execution_count": 166,
   "metadata": {},
   "outputs": [],
   "source": [
    "from string import punctuation\n",
    "\n",
    "def lemmatize(input_text):\n",
    "    tokens = nltk.word_tokenize(input_text)\n",
    "    normed_tokens = [morph.parse(s)[0].normal_form for s in tokens]\n",
    "    # исключим также стоп-слова - всякие предлоги, союзы и т.п.\n",
    "    normed_tokens = [word for word in normed_tokens if word not in nltk.corpus.stopwords.words(\"russian\")]\n",
    "    normed_tokens = [word for word in normed_tokens if word not in nltk.corpus.stopwords.words(\"english\")]\n",
    "    # а также знаки препинания\n",
    "    normed_tokens = [word for word in normed_tokens if word not in punctuation]\n",
    "    return ' '.join(normed_tokens)"
   ]
  },
  {
   "cell_type": "code",
   "execution_count": 167,
   "metadata": {},
   "outputs": [],
   "source": [
    "import os\n",
    "import pandas as pd\n",
    "\n",
    "# подготовим пустой датафрейм\n",
    "df = pd.DataFrame(columns=['text', 'class'])\n",
    "\n",
    "# это папки, в которых лежат файлы с текстами\n",
    "dir0 = \"C:\\\\Users\\\\Gamma\\\\Anaconda3\\\\123\"\n",
    "dir1 = \"C:\\\\Users\\\\Gamma\\\\Anaconda3\\\\leningrad\""
   ]
  },
  {
   "cell_type": "code",
   "execution_count": 168,
   "metadata": {
    "scrolled": true
   },
   "outputs": [],
   "source": [
    "# считаем все наши тексты в датафрейм с указанием класса\n",
    "for filename in os.listdir(dir0):\n",
    "    with open(os.path.join(dir0, filename), encoding='utf8', errors='ignore') as file:\n",
    "        contents = lemmatize(file.read())\n",
    "    df = df.append(pd.Series({'text': contents, 'class': 0}), ignore_index=True)"
   ]
  },
  {
   "cell_type": "code",
   "execution_count": 169,
   "metadata": {},
   "outputs": [],
   "source": [
    "# и для второй папки тоже\n",
    "for filename in os.listdir(dir1):\n",
    "    with open(os.path.join(dir1, filename), encoding='utf8', errors='ignore') as file:\n",
    "        contents = lemmatize(file.read())\n",
    "    df = df.append(pd.Series({'text': contents, 'class': 1}), ignore_index=True)"
   ]
  },
  {
   "cell_type": "code",
   "execution_count": 170,
   "metadata": {},
   "outputs": [
    {
     "data": {
      "text/html": [
       "<div>\n",
       "<style scoped>\n",
       "    .dataframe tbody tr th:only-of-type {\n",
       "        vertical-align: middle;\n",
       "    }\n",
       "\n",
       "    .dataframe tbody tr th {\n",
       "        vertical-align: top;\n",
       "    }\n",
       "\n",
       "    .dataframe thead th {\n",
       "        text-align: right;\n",
       "    }\n",
       "</style>\n",
       "<table border=\"1\" class=\"dataframe\">\n",
       "  <thead>\n",
       "    <tr style=\"text-align: right;\">\n",
       "      <th></th>\n",
       "      <th>text</th>\n",
       "      <th>class</th>\n",
       "    </tr>\n",
       "  </thead>\n",
       "  <tbody>\n",
       "    <tr>\n",
       "      <th>0</th>\n",
       "      <td>любить самый нежный каждый день звонить встрет...</td>\n",
       "      <td>0</td>\n",
       "    </tr>\n",
       "    <tr>\n",
       "      <th>1</th>\n",
       "      <td>гулять сидеть невинность свой беречь весь это ...</td>\n",
       "      <td>0</td>\n",
       "    </tr>\n",
       "    <tr>\n",
       "      <th>2</th>\n",
       "      <td>мягкий мягкий снег окно умирать нежно таять ду...</td>\n",
       "      <td>0</td>\n",
       "    </tr>\n",
       "    <tr>\n",
       "      <th>3</th>\n",
       "      <td>знать готовый помчаться снова туда танец танец...</td>\n",
       "      <td>0</td>\n",
       "    </tr>\n",
       "    <tr>\n",
       "      <th>4</th>\n",
       "      <td>парень девчонка обижать парень знаешь встречат...</td>\n",
       "      <td>0</td>\n",
       "    </tr>\n",
       "    <tr>\n",
       "      <th>5</th>\n",
       "      <td>мягкий шёлк простыня напомнить нежность рука т...</td>\n",
       "      <td>0</td>\n",
       "    </tr>\n",
       "    <tr>\n",
       "      <th>6</th>\n",
       "      <td>двое разлить вод разный путь разный судьба про...</td>\n",
       "      <td>0</td>\n",
       "    </tr>\n",
       "    <tr>\n",
       "      <th>7</th>\n",
       "      <td>здравствовать плакать снова значит что-то знач...</td>\n",
       "      <td>0</td>\n",
       "    </tr>\n",
       "    <tr>\n",
       "      <th>8</th>\n",
       "      <td>начинать занятие гимнастика ходьба место приго...</td>\n",
       "      <td>0</td>\n",
       "    </tr>\n",
       "    <tr>\n",
       "      <th>9</th>\n",
       "      <td>песенка играть танцевать песенка поить песенка...</td>\n",
       "      <td>0</td>\n",
       "    </tr>\n",
       "    <tr>\n",
       "      <th>10</th>\n",
       "      <td>крошка скучать письмо получать далеко скучать ...</td>\n",
       "      <td>0</td>\n",
       "    </tr>\n",
       "    <tr>\n",
       "      <th>11</th>\n",
       "      <td>ай яй яй девчонка взять ножка ай яй яй девчонк...</td>\n",
       "      <td>0</td>\n",
       "    </tr>\n",
       "    <tr>\n",
       "      <th>12</th>\n",
       "      <td>ветер шуметь негромко листва шелестеть ответ и...</td>\n",
       "      <td>0</td>\n",
       "    </tr>\n",
       "    <tr>\n",
       "      <th>13</th>\n",
       "      <td>любить алешка большой алешка вздыхать зря алеш...</td>\n",
       "      <td>0</td>\n",
       "    </tr>\n",
       "    <tr>\n",
       "      <th>14</th>\n",
       "      <td>тихо светить луна вдали река широкий тропа про...</td>\n",
       "      <td>0</td>\n",
       "    </tr>\n",
       "    <tr>\n",
       "      <th>15</th>\n",
       "      <td>прижаться словно невзначай спать малыш баю-бай...</td>\n",
       "      <td>0</td>\n",
       "    </tr>\n",
       "    <tr>\n",
       "      <th>16</th>\n",
       "      <td>мочь помочь ласкать ласкать гнать скорее прочь...</td>\n",
       "      <td>0</td>\n",
       "    </tr>\n",
       "    <tr>\n",
       "      <th>17</th>\n",
       "      <td>спать ночной проспект лунный свет провожать до...</td>\n",
       "      <td>0</td>\n",
       "    </tr>\n",
       "    <tr>\n",
       "      <th>18</th>\n",
       "      <td>это лето стиль самба танцевать ритм мамбо сдел...</td>\n",
       "      <td>0</td>\n",
       "    </tr>\n",
       "    <tr>\n",
       "      <th>19</th>\n",
       "      <td>разлюбить весь забыть хороший звать звать зват...</td>\n",
       "      <td>0</td>\n",
       "    </tr>\n",
       "    <tr>\n",
       "      <th>20</th>\n",
       "      <td>одинокий это мир ночь пред стен одинокий кварт...</td>\n",
       "      <td>1</td>\n",
       "    </tr>\n",
       "    <tr>\n",
       "      <th>21</th>\n",
       "      <td>знать жить любовь твой непросто отыскать весь ...</td>\n",
       "      <td>1</td>\n",
       "    </tr>\n",
       "    <tr>\n",
       "      <th>22</th>\n",
       "      <td>метель пропеть давно отгреметь фронт любовь ве...</td>\n",
       "      <td>1</td>\n",
       "    </tr>\n",
       "    <tr>\n",
       "      <th>23</th>\n",
       "      <td>близкие человек внезапно сделаться дальний вет...</td>\n",
       "      <td>1</td>\n",
       "    </tr>\n",
       "    <tr>\n",
       "      <th>24</th>\n",
       "      <td>дымно зеркало отражение порой видно лицо пара ...</td>\n",
       "      <td>1</td>\n",
       "    </tr>\n",
       "    <tr>\n",
       "      <th>25</th>\n",
       "      <td>вечный любовь верный время зло память большой ...</td>\n",
       "      <td>1</td>\n",
       "    </tr>\n",
       "    <tr>\n",
       "      <th>26</th>\n",
       "      <td>холодное пот ночь просыпаться кричать пустота ...</td>\n",
       "      <td>1</td>\n",
       "    </tr>\n",
       "    <tr>\n",
       "      <th>27</th>\n",
       "      <td>снова вечер кидать чета нечет выпадать чета сн...</td>\n",
       "      <td>1</td>\n",
       "    </tr>\n",
       "    <tr>\n",
       "      <th>28</th>\n",
       "      <td>идти пешком весь день нога устать писать строк...</td>\n",
       "      <td>1</td>\n",
       "    </tr>\n",
       "    <tr>\n",
       "      <th>29</th>\n",
       "      <td>ночь нежный ночь светлый лечь узор поверх стек...</td>\n",
       "      <td>1</td>\n",
       "    </tr>\n",
       "    <tr>\n",
       "      <th>30</th>\n",
       "      <td>легко жить весь ввысь летать лишь сон кружитьс...</td>\n",
       "      <td>1</td>\n",
       "    </tr>\n",
       "    <tr>\n",
       "      <th>31</th>\n",
       "      <td>арбат перемена арбат ух -денёк предлагать напи...</td>\n",
       "      <td>1</td>\n",
       "    </tr>\n",
       "    <tr>\n",
       "      <th>32</th>\n",
       "      <td>весь ничто случиться дёрнуться твёрдый чей-то ...</td>\n",
       "      <td>1</td>\n",
       "    </tr>\n",
       "    <tr>\n",
       "      <th>33</th>\n",
       "      <td>река протекать асфальт петь тенор альт знакомы...</td>\n",
       "      <td>1</td>\n",
       "    </tr>\n",
       "    <tr>\n",
       "      <th>34</th>\n",
       "      <td>знать милый знать потерять просто искать поздн...</td>\n",
       "      <td>1</td>\n",
       "    </tr>\n",
       "    <tr>\n",
       "      <th>35</th>\n",
       "      <td>дать ... дать свобода это мир всюду дать свобо...</td>\n",
       "      <td>1</td>\n",
       "    </tr>\n",
       "    <tr>\n",
       "      <th>36</th>\n",
       "      <td>дочь родиться шарманщик добрый карло папа счас...</td>\n",
       "      <td>1</td>\n",
       "    </tr>\n",
       "    <tr>\n",
       "      <th>37</th>\n",
       "      <td>посвящать весь песнь свой открывать хотеть бра...</td>\n",
       "      <td>1</td>\n",
       "    </tr>\n",
       "    <tr>\n",
       "      <th>38</th>\n",
       "      <td>женский глаз бывать разный гордый звать властн...</td>\n",
       "      <td>1</td>\n",
       "    </tr>\n",
       "    <tr>\n",
       "      <th>39</th>\n",
       "      <td>день весенний прошептать вернуть вернуть знать...</td>\n",
       "      <td>1</td>\n",
       "    </tr>\n",
       "    <tr>\n",
       "      <th>40</th>\n",
       "      <td>зеркало разбитый осколок склониться отражение ...</td>\n",
       "      <td>1</td>\n",
       "    </tr>\n",
       "    <tr>\n",
       "      <th>41</th>\n",
       "      <td>жить свободно темп аллегро глаз твой томный ве...</td>\n",
       "      <td>1</td>\n",
       "    </tr>\n",
       "    <tr>\n",
       "      <th>42</th>\n",
       "      <td>гаснуть мор отблеск закат лишь звезда видеть п...</td>\n",
       "      <td>1</td>\n",
       "    </tr>\n",
       "    <tr>\n",
       "      <th>43</th>\n",
       "      <td>гореть лететь жить спешить уметь наполовину св...</td>\n",
       "      <td>1</td>\n",
       "    </tr>\n",
       "    <tr>\n",
       "      <th>44</th>\n",
       "      <td>мимо пройти прятать взор земля опустить глаз с...</td>\n",
       "      <td>1</td>\n",
       "    </tr>\n",
       "    <tr>\n",
       "      <th>45</th>\n",
       "      <td>острый игла яркий огонь бег бег дорога конец о...</td>\n",
       "      <td>1</td>\n",
       "    </tr>\n",
       "    <tr>\n",
       "      <th>46</th>\n",
       "      <td>знать искать бесполезный мелькнуть мгновение т...</td>\n",
       "      <td>1</td>\n",
       "    </tr>\n",
       "    <tr>\n",
       "      <th>47</th>\n",
       "      <td>отшуметь дневный забота юный вечер пахнуть тиш...</td>\n",
       "      <td>1</td>\n",
       "    </tr>\n",
       "    <tr>\n",
       "      <th>48</th>\n",
       "      <td>давно верить сон изменчивый бежать волна женщи...</td>\n",
       "      <td>1</td>\n",
       "    </tr>\n",
       "  </tbody>\n",
       "</table>\n",
       "</div>"
      ],
      "text/plain": [
       "                                                 text class\n",
       "0   любить самый нежный каждый день звонить встрет...     0\n",
       "1   гулять сидеть невинность свой беречь весь это ...     0\n",
       "2   мягкий мягкий снег окно умирать нежно таять ду...     0\n",
       "3   знать готовый помчаться снова туда танец танец...     0\n",
       "4   парень девчонка обижать парень знаешь встречат...     0\n",
       "5   мягкий шёлк простыня напомнить нежность рука т...     0\n",
       "6   двое разлить вод разный путь разный судьба про...     0\n",
       "7   здравствовать плакать снова значит что-то знач...     0\n",
       "8   начинать занятие гимнастика ходьба место приго...     0\n",
       "9   песенка играть танцевать песенка поить песенка...     0\n",
       "10  крошка скучать письмо получать далеко скучать ...     0\n",
       "11  ай яй яй девчонка взять ножка ай яй яй девчонк...     0\n",
       "12  ветер шуметь негромко листва шелестеть ответ и...     0\n",
       "13  любить алешка большой алешка вздыхать зря алеш...     0\n",
       "14  тихо светить луна вдали река широкий тропа про...     0\n",
       "15  прижаться словно невзначай спать малыш баю-бай...     0\n",
       "16  мочь помочь ласкать ласкать гнать скорее прочь...     0\n",
       "17  спать ночной проспект лунный свет провожать до...     0\n",
       "18  это лето стиль самба танцевать ритм мамбо сдел...     0\n",
       "19  разлюбить весь забыть хороший звать звать зват...     0\n",
       "20  одинокий это мир ночь пред стен одинокий кварт...     1\n",
       "21  знать жить любовь твой непросто отыскать весь ...     1\n",
       "22  метель пропеть давно отгреметь фронт любовь ве...     1\n",
       "23  близкие человек внезапно сделаться дальний вет...     1\n",
       "24  дымно зеркало отражение порой видно лицо пара ...     1\n",
       "25  вечный любовь верный время зло память большой ...     1\n",
       "26  холодное пот ночь просыпаться кричать пустота ...     1\n",
       "27  снова вечер кидать чета нечет выпадать чета сн...     1\n",
       "28  идти пешком весь день нога устать писать строк...     1\n",
       "29  ночь нежный ночь светлый лечь узор поверх стек...     1\n",
       "30  легко жить весь ввысь летать лишь сон кружитьс...     1\n",
       "31  арбат перемена арбат ух -денёк предлагать напи...     1\n",
       "32  весь ничто случиться дёрнуться твёрдый чей-то ...     1\n",
       "33  река протекать асфальт петь тенор альт знакомы...     1\n",
       "34  знать милый знать потерять просто искать поздн...     1\n",
       "35  дать ... дать свобода это мир всюду дать свобо...     1\n",
       "36  дочь родиться шарманщик добрый карло папа счас...     1\n",
       "37  посвящать весь песнь свой открывать хотеть бра...     1\n",
       "38  женский глаз бывать разный гордый звать властн...     1\n",
       "39  день весенний прошептать вернуть вернуть знать...     1\n",
       "40  зеркало разбитый осколок склониться отражение ...     1\n",
       "41  жить свободно темп аллегро глаз твой томный ве...     1\n",
       "42  гаснуть мор отблеск закат лишь звезда видеть п...     1\n",
       "43  гореть лететь жить спешить уметь наполовину св...     1\n",
       "44  мимо пройти прятать взор земля опустить глаз с...     1\n",
       "45  острый игла яркий огонь бег бег дорога конец о...     1\n",
       "46  знать искать бесполезный мелькнуть мгновение т...     1\n",
       "47  отшуметь дневный забота юный вечер пахнуть тиш...     1\n",
       "48  давно верить сон изменчивый бежать волна женщи...     1"
      ]
     },
     "execution_count": 170,
     "metadata": {},
     "output_type": "execute_result"
    }
   ],
   "source": [
    "df"
   ]
  },
  {
   "cell_type": "code",
   "execution_count": 203,
   "metadata": {},
   "outputs": [],
   "source": [
    "from sklearn.model_selection import train_test_split\n",
    "X_train, X_test, y_train, y_test = train_test_split(df['text'], df['class'], test_size=0.4, stratify=df['class'])"
   ]
  },
  {
   "cell_type": "code",
   "execution_count": null,
   "metadata": {},
   "outputs": [],
   "source": []
  },
  {
   "cell_type": "code",
   "execution_count": null,
   "metadata": {},
   "outputs": [],
   "source": []
  },
  {
   "cell_type": "code",
   "execution_count": null,
   "metadata": {},
   "outputs": [],
   "source": []
  },
  {
   "cell_type": "code",
   "execution_count": null,
   "metadata": {},
   "outputs": [],
   "source": []
  },
  {
   "cell_type": "code",
   "execution_count": null,
   "metadata": {},
   "outputs": [],
   "source": []
  },
  {
   "cell_type": "code",
   "execution_count": null,
   "metadata": {},
   "outputs": [],
   "source": []
  },
  {
   "cell_type": "code",
   "execution_count": 204,
   "metadata": {},
   "outputs": [],
   "source": [
    "#Bag of words embedding\n",
    "from sklearn.feature_extraction.text import CountVectorizer\n",
    "bof_vect = CountVectorizer()\n",
    "bof_vect.fit(np.hstack([X_train, X_test]))\n",
    "bof_train = bof_vect.transform(X_train)\n",
    "bof_test = bof_vect.transform(X_test)"
   ]
  },
  {
   "cell_type": "code",
   "execution_count": 205,
   "metadata": {},
   "outputs": [
    {
     "data": {
      "text/plain": [
       "array([[0, 0, 0, ..., 0, 0, 0],\n",
       "       [0, 0, 0, ..., 0, 0, 0],\n",
       "       [0, 0, 0, ..., 0, 0, 0],\n",
       "       ...,\n",
       "       [0, 0, 0, ..., 0, 0, 0],\n",
       "       [0, 0, 0, ..., 0, 0, 0],\n",
       "       [0, 0, 0, ..., 0, 0, 0]], dtype=int64)"
      ]
     },
     "execution_count": 205,
     "metadata": {},
     "output_type": "execute_result"
    }
   ],
   "source": [
    "bof_train.toarray()"
   ]
  },
  {
   "cell_type": "code",
   "execution_count": 206,
   "metadata": {},
   "outputs": [
    {
     "data": {
      "text/plain": [
       "(29, 1178)"
      ]
     },
     "execution_count": 206,
     "metadata": {},
     "output_type": "execute_result"
    }
   ],
   "source": [
    "bof_train.toarray().shape"
   ]
  },
  {
   "cell_type": "code",
   "execution_count": 207,
   "metadata": {},
   "outputs": [
    {
     "data": {
      "text/plain": [
       "(1, 1178)"
      ]
     },
     "execution_count": 207,
     "metadata": {},
     "output_type": "execute_result"
    }
   ],
   "source": [
    "ruki_mean_bof = np.sum(bof_train[y_train == 0], axis=0)\n",
    "ruki_mean_bof.shape"
   ]
  },
  {
   "cell_type": "code",
   "execution_count": 208,
   "metadata": {},
   "outputs": [],
   "source": [
    "leningrad_mean_bof = np.sum(bof_train[y_train == 1], axis=0)"
   ]
  },
  {
   "cell_type": "code",
   "execution_count": 235,
   "metadata": {},
   "outputs": [
    {
     "data": {
      "text/html": [
       "<div>\n",
       "<style scoped>\n",
       "    .dataframe tbody tr th:only-of-type {\n",
       "        vertical-align: middle;\n",
       "    }\n",
       "\n",
       "    .dataframe tbody tr th {\n",
       "        vertical-align: top;\n",
       "    }\n",
       "\n",
       "    .dataframe thead th {\n",
       "        text-align: right;\n",
       "    }\n",
       "</style>\n",
       "<table border=\"1\" class=\"dataframe\">\n",
       "  <thead>\n",
       "    <tr style=\"text-align: right;\">\n",
       "      <th></th>\n",
       "      <th>ruki</th>\n",
       "      <th>leningrad</th>\n",
       "      <th>predict</th>\n",
       "      <th>class</th>\n",
       "    </tr>\n",
       "  </thead>\n",
       "  <tbody>\n",
       "    <tr>\n",
       "      <th>0</th>\n",
       "      <td>0.974423</td>\n",
       "      <td>0.978897</td>\n",
       "      <td>1.0</td>\n",
       "      <td>1.0</td>\n",
       "    </tr>\n",
       "    <tr>\n",
       "      <th>1</th>\n",
       "      <td>0.976648</td>\n",
       "      <td>0.972704</td>\n",
       "      <td>0.0</td>\n",
       "      <td>1.0</td>\n",
       "    </tr>\n",
       "    <tr>\n",
       "      <th>2</th>\n",
       "      <td>0.998991</td>\n",
       "      <td>0.998330</td>\n",
       "      <td>0.0</td>\n",
       "      <td>0.0</td>\n",
       "    </tr>\n",
       "    <tr>\n",
       "      <th>3</th>\n",
       "      <td>0.873494</td>\n",
       "      <td>0.858125</td>\n",
       "      <td>0.0</td>\n",
       "      <td>1.0</td>\n",
       "    </tr>\n",
       "    <tr>\n",
       "      <th>4</th>\n",
       "      <td>0.883597</td>\n",
       "      <td>0.873770</td>\n",
       "      <td>0.0</td>\n",
       "      <td>1.0</td>\n",
       "    </tr>\n",
       "    <tr>\n",
       "      <th>5</th>\n",
       "      <td>0.970240</td>\n",
       "      <td>0.975445</td>\n",
       "      <td>1.0</td>\n",
       "      <td>1.0</td>\n",
       "    </tr>\n",
       "    <tr>\n",
       "      <th>6</th>\n",
       "      <td>0.973294</td>\n",
       "      <td>0.961090</td>\n",
       "      <td>0.0</td>\n",
       "      <td>1.0</td>\n",
       "    </tr>\n",
       "    <tr>\n",
       "      <th>7</th>\n",
       "      <td>0.941826</td>\n",
       "      <td>0.936535</td>\n",
       "      <td>0.0</td>\n",
       "      <td>0.0</td>\n",
       "    </tr>\n",
       "    <tr>\n",
       "      <th>8</th>\n",
       "      <td>0.973564</td>\n",
       "      <td>0.973087</td>\n",
       "      <td>0.0</td>\n",
       "      <td>1.0</td>\n",
       "    </tr>\n",
       "    <tr>\n",
       "      <th>9</th>\n",
       "      <td>0.973146</td>\n",
       "      <td>0.955533</td>\n",
       "      <td>0.0</td>\n",
       "      <td>0.0</td>\n",
       "    </tr>\n",
       "    <tr>\n",
       "      <th>10</th>\n",
       "      <td>0.969982</td>\n",
       "      <td>0.956815</td>\n",
       "      <td>0.0</td>\n",
       "      <td>1.0</td>\n",
       "    </tr>\n",
       "    <tr>\n",
       "      <th>11</th>\n",
       "      <td>0.896525</td>\n",
       "      <td>0.876238</td>\n",
       "      <td>0.0</td>\n",
       "      <td>0.0</td>\n",
       "    </tr>\n",
       "    <tr>\n",
       "      <th>12</th>\n",
       "      <td>0.962497</td>\n",
       "      <td>0.956164</td>\n",
       "      <td>0.0</td>\n",
       "      <td>0.0</td>\n",
       "    </tr>\n",
       "    <tr>\n",
       "      <th>13</th>\n",
       "      <td>0.939765</td>\n",
       "      <td>0.918694</td>\n",
       "      <td>0.0</td>\n",
       "      <td>0.0</td>\n",
       "    </tr>\n",
       "    <tr>\n",
       "      <th>14</th>\n",
       "      <td>0.927462</td>\n",
       "      <td>0.927536</td>\n",
       "      <td>1.0</td>\n",
       "      <td>1.0</td>\n",
       "    </tr>\n",
       "    <tr>\n",
       "      <th>15</th>\n",
       "      <td>0.946252</td>\n",
       "      <td>0.933109</td>\n",
       "      <td>0.0</td>\n",
       "      <td>1.0</td>\n",
       "    </tr>\n",
       "    <tr>\n",
       "      <th>16</th>\n",
       "      <td>0.958453</td>\n",
       "      <td>0.948563</td>\n",
       "      <td>0.0</td>\n",
       "      <td>1.0</td>\n",
       "    </tr>\n",
       "    <tr>\n",
       "      <th>17</th>\n",
       "      <td>0.958403</td>\n",
       "      <td>0.940158</td>\n",
       "      <td>0.0</td>\n",
       "      <td>1.0</td>\n",
       "    </tr>\n",
       "    <tr>\n",
       "      <th>18</th>\n",
       "      <td>0.971939</td>\n",
       "      <td>0.964482</td>\n",
       "      <td>0.0</td>\n",
       "      <td>0.0</td>\n",
       "    </tr>\n",
       "    <tr>\n",
       "      <th>19</th>\n",
       "      <td>0.991468</td>\n",
       "      <td>0.987874</td>\n",
       "      <td>0.0</td>\n",
       "      <td>0.0</td>\n",
       "    </tr>\n",
       "  </tbody>\n",
       "</table>\n",
       "</div>"
      ],
      "text/plain": [
       "        ruki  leningrad  predict  class\n",
       "0   0.974423   0.978897      1.0    1.0\n",
       "1   0.976648   0.972704      0.0    1.0\n",
       "2   0.998991   0.998330      0.0    0.0\n",
       "3   0.873494   0.858125      0.0    1.0\n",
       "4   0.883597   0.873770      0.0    1.0\n",
       "5   0.970240   0.975445      1.0    1.0\n",
       "6   0.973294   0.961090      0.0    1.0\n",
       "7   0.941826   0.936535      0.0    0.0\n",
       "8   0.973564   0.973087      0.0    1.0\n",
       "9   0.973146   0.955533      0.0    0.0\n",
       "10  0.969982   0.956815      0.0    1.0\n",
       "11  0.896525   0.876238      0.0    0.0\n",
       "12  0.962497   0.956164      0.0    0.0\n",
       "13  0.939765   0.918694      0.0    0.0\n",
       "14  0.927462   0.927536      1.0    1.0\n",
       "15  0.946252   0.933109      0.0    1.0\n",
       "16  0.958453   0.948563      0.0    1.0\n",
       "17  0.958403   0.940158      0.0    1.0\n",
       "18  0.971939   0.964482      0.0    0.0\n",
       "19  0.991468   0.987874      0.0    0.0"
      ]
     },
     "execution_count": 235,
     "metadata": {},
     "output_type": "execute_result"
    }
   ],
   "source": [
    "from scipy.spatial.distance import cosine\n",
    "bof_ruki = np.apply_along_axis(cosine, 1, bof_test.toarray(), v=ruki_mean_bof)\n",
    "bof_leningrad = np.apply_along_axis(cosine, 1, bof_test.toarray(), v=leningrad_mean_bof)\n",
    "\n",
    "bof_results = pd.DataFrame([\n",
    "    bof_ruki,\n",
    "    bof_leningrad,\n",
    "    np.maximum(bof_ruki, bof_leningrad) == bof_leningrad,\n",
    "    y_test\n",
    "], index=[\"ruki\", \"leningrad\", \"predict\", \"class\"]).T.astype(np.float)\n",
    "bof_results"
   ]
  },
  {
   "cell_type": "code",
   "execution_count": 234,
   "metadata": {},
   "outputs": [
    {
     "name": "stdout",
     "output_type": "stream",
     "text": [
      "34    знать милый знать потерять просто искать поздн...\n",
      "33    река протекать асфальт петь тенор альт знакомы...\n",
      "8     начинать занятие гимнастика ходьба место приго...\n",
      "25    вечный любовь верный время зло память большой ...\n",
      "21    знать жить любовь твой непросто отыскать весь ...\n",
      "27    снова вечер кидать чета нечет выпадать чета сн...\n",
      "46    знать искать бесполезный мелькнуть мгновение т...\n",
      "6     двое разлить вод разный путь разный судьба про...\n",
      "44    мимо пройти прятать взор земля опустить глаз с...\n",
      "19    разлюбить весь забыть хороший звать звать зват...\n",
      "22    метель пропеть давно отгреметь фронт любовь ве...\n",
      "1     гулять сидеть невинность свой беречь весь это ...\n",
      "4     парень девчонка обижать парень знаешь встречат...\n",
      "0     любить самый нежный каждый день звонить встрет...\n",
      "48    давно верить сон изменчивый бежать волна женщи...\n",
      "43    гореть лететь жить спешить уметь наполовину св...\n",
      "42    гаснуть мор отблеск закат лишь звезда видеть п...\n",
      "28    идти пешком весь день нога устать писать строк...\n",
      "2     мягкий мягкий снег окно умирать нежно таять ду...\n",
      "9     песенка играть танцевать песенка поить песенка...\n",
      "Name: text, dtype: object\n"
     ]
    }
   ],
   "source": [
    "print(X_test)"
   ]
  },
  {
   "cell_type": "code",
   "execution_count": null,
   "metadata": {},
   "outputs": [],
   "source": []
  },
  {
   "cell_type": "code",
   "execution_count": 236,
   "metadata": {},
   "outputs": [
    {
     "data": {
      "text/plain": [
       "0.55"
      ]
     },
     "execution_count": 236,
     "metadata": {},
     "output_type": "execute_result"
    }
   ],
   "source": [
    "from sklearn.metrics import accuracy_score\n",
    "accuracy_score(bof_results['predict'], bof_results['class'])"
   ]
  },
  {
   "cell_type": "code",
   "execution_count": 211,
   "metadata": {},
   "outputs": [
    {
     "name": "stderr",
     "output_type": "stream",
     "text": [
      "C:\\Users\\Gamma\\Anaconda3\\lib\\site-packages\\sklearn\\ensemble\\forest.py:246: FutureWarning: The default value of n_estimators will change from 10 in version 0.20 to 100 in 0.22.\n",
      "  \"10 in version 0.20 to 100 in 0.22.\", FutureWarning)\n"
     ]
    },
    {
     "data": {
      "text/plain": [
       "0.8"
      ]
     },
     "execution_count": 211,
     "metadata": {},
     "output_type": "execute_result"
    }
   ],
   "source": [
    "from sklearn.ensemble import RandomForestClassifier\n",
    "RandomForestClassifier().fit(bof_train.toarray(), y_train.tolist()).score(bof_test.toarray(), y_test.tolist())"
   ]
  },
  {
   "cell_type": "code",
   "execution_count": null,
   "metadata": {},
   "outputs": [],
   "source": []
  },
  {
   "cell_type": "code",
   "execution_count": null,
   "metadata": {},
   "outputs": [],
   "source": []
  },
  {
   "cell_type": "code",
   "execution_count": null,
   "metadata": {},
   "outputs": [],
   "source": []
  },
  {
   "cell_type": "code",
   "execution_count": null,
   "metadata": {},
   "outputs": [],
   "source": []
  },
  {
   "cell_type": "code",
   "execution_count": 212,
   "metadata": {},
   "outputs": [],
   "source": [
    "#Term Frequency — Inverse Document Frequency(TF-IDF) embedding\n",
    "from sklearn.feature_extraction.text import TfidfVectorizer\n",
    "tfidf_vect = TfidfVectorizer()\n",
    "tfidf_vect.fit(np.hstack([X_train, X_test]))\n",
    "tfidf_train = tfidf_vect.transform(X_train)\n",
    "tfidf_test = tfidf_vect.transform(X_test)"
   ]
  },
  {
   "cell_type": "code",
   "execution_count": 213,
   "metadata": {},
   "outputs": [
    {
     "data": {
      "text/plain": [
       "array([[0., 0., 0., ..., 0., 0., 0.],\n",
       "       [0., 0., 0., ..., 0., 0., 0.],\n",
       "       [0., 0., 0., ..., 0., 0., 0.],\n",
       "       ...,\n",
       "       [0., 0., 0., ..., 0., 0., 0.],\n",
       "       [0., 0., 0., ..., 0., 0., 0.],\n",
       "       [0., 0., 0., ..., 0., 0., 0.]])"
      ]
     },
     "execution_count": 213,
     "metadata": {},
     "output_type": "execute_result"
    }
   ],
   "source": [
    "tfidf_train.toarray()"
   ]
  },
  {
   "cell_type": "code",
   "execution_count": 214,
   "metadata": {},
   "outputs": [
    {
     "data": {
      "text/plain": [
       "(29, 1178)"
      ]
     },
     "execution_count": 214,
     "metadata": {},
     "output_type": "execute_result"
    }
   ],
   "source": [
    "tfidf_train.toarray().shape"
   ]
  },
  {
   "cell_type": "code",
   "execution_count": 215,
   "metadata": {},
   "outputs": [
    {
     "data": {
      "text/plain": [
       "(1, 1178)"
      ]
     },
     "execution_count": 215,
     "metadata": {},
     "output_type": "execute_result"
    }
   ],
   "source": [
    "ruki_mean_tfidf = np.sum(tfidf_train[y_train == 0], axis=0)\n",
    "ruki_mean_tfidf.shape"
   ]
  },
  {
   "cell_type": "code",
   "execution_count": 216,
   "metadata": {},
   "outputs": [],
   "source": [
    "leningrad_mean_tfidf = np.sum(tfidf_train[y_train == 1], axis=0)"
   ]
  },
  {
   "cell_type": "code",
   "execution_count": 217,
   "metadata": {},
   "outputs": [
    {
     "data": {
      "text/html": [
       "<div>\n",
       "<style scoped>\n",
       "    .dataframe tbody tr th:only-of-type {\n",
       "        vertical-align: middle;\n",
       "    }\n",
       "\n",
       "    .dataframe tbody tr th {\n",
       "        vertical-align: top;\n",
       "    }\n",
       "\n",
       "    .dataframe thead th {\n",
       "        text-align: right;\n",
       "    }\n",
       "</style>\n",
       "<table border=\"1\" class=\"dataframe\">\n",
       "  <thead>\n",
       "    <tr style=\"text-align: right;\">\n",
       "      <th></th>\n",
       "      <th>ruki</th>\n",
       "      <th>leningrad</th>\n",
       "      <th>predict</th>\n",
       "      <th>class</th>\n",
       "    </tr>\n",
       "  </thead>\n",
       "  <tbody>\n",
       "    <tr>\n",
       "      <th>0</th>\n",
       "      <td>0.985412</td>\n",
       "      <td>0.989702</td>\n",
       "      <td>1.0</td>\n",
       "      <td>1.0</td>\n",
       "    </tr>\n",
       "    <tr>\n",
       "      <th>1</th>\n",
       "      <td>0.983855</td>\n",
       "      <td>0.984205</td>\n",
       "      <td>1.0</td>\n",
       "      <td>1.0</td>\n",
       "    </tr>\n",
       "    <tr>\n",
       "      <th>2</th>\n",
       "      <td>0.998728</td>\n",
       "      <td>0.998198</td>\n",
       "      <td>0.0</td>\n",
       "      <td>0.0</td>\n",
       "    </tr>\n",
       "    <tr>\n",
       "      <th>3</th>\n",
       "      <td>0.911252</td>\n",
       "      <td>0.925949</td>\n",
       "      <td>1.0</td>\n",
       "      <td>1.0</td>\n",
       "    </tr>\n",
       "    <tr>\n",
       "      <th>4</th>\n",
       "      <td>0.926612</td>\n",
       "      <td>0.938519</td>\n",
       "      <td>1.0</td>\n",
       "      <td>1.0</td>\n",
       "    </tr>\n",
       "    <tr>\n",
       "      <th>5</th>\n",
       "      <td>0.982587</td>\n",
       "      <td>0.987709</td>\n",
       "      <td>1.0</td>\n",
       "      <td>1.0</td>\n",
       "    </tr>\n",
       "    <tr>\n",
       "      <th>6</th>\n",
       "      <td>0.991727</td>\n",
       "      <td>0.990166</td>\n",
       "      <td>0.0</td>\n",
       "      <td>1.0</td>\n",
       "    </tr>\n",
       "    <tr>\n",
       "      <th>7</th>\n",
       "      <td>0.959117</td>\n",
       "      <td>0.961163</td>\n",
       "      <td>1.0</td>\n",
       "      <td>0.0</td>\n",
       "    </tr>\n",
       "    <tr>\n",
       "      <th>8</th>\n",
       "      <td>0.985815</td>\n",
       "      <td>0.987312</td>\n",
       "      <td>1.0</td>\n",
       "      <td>1.0</td>\n",
       "    </tr>\n",
       "    <tr>\n",
       "      <th>9</th>\n",
       "      <td>0.991068</td>\n",
       "      <td>0.987346</td>\n",
       "      <td>0.0</td>\n",
       "      <td>0.0</td>\n",
       "    </tr>\n",
       "    <tr>\n",
       "      <th>10</th>\n",
       "      <td>0.992355</td>\n",
       "      <td>0.991134</td>\n",
       "      <td>0.0</td>\n",
       "      <td>1.0</td>\n",
       "    </tr>\n",
       "    <tr>\n",
       "      <th>11</th>\n",
       "      <td>0.948356</td>\n",
       "      <td>0.946762</td>\n",
       "      <td>0.0</td>\n",
       "      <td>0.0</td>\n",
       "    </tr>\n",
       "    <tr>\n",
       "      <th>12</th>\n",
       "      <td>0.983666</td>\n",
       "      <td>0.983099</td>\n",
       "      <td>0.0</td>\n",
       "      <td>0.0</td>\n",
       "    </tr>\n",
       "    <tr>\n",
       "      <th>13</th>\n",
       "      <td>0.964805</td>\n",
       "      <td>0.959072</td>\n",
       "      <td>0.0</td>\n",
       "      <td>0.0</td>\n",
       "    </tr>\n",
       "    <tr>\n",
       "      <th>14</th>\n",
       "      <td>0.946323</td>\n",
       "      <td>0.950790</td>\n",
       "      <td>1.0</td>\n",
       "      <td>1.0</td>\n",
       "    </tr>\n",
       "    <tr>\n",
       "      <th>15</th>\n",
       "      <td>0.965058</td>\n",
       "      <td>0.963775</td>\n",
       "      <td>0.0</td>\n",
       "      <td>1.0</td>\n",
       "    </tr>\n",
       "    <tr>\n",
       "      <th>16</th>\n",
       "      <td>0.973238</td>\n",
       "      <td>0.969343</td>\n",
       "      <td>0.0</td>\n",
       "      <td>1.0</td>\n",
       "    </tr>\n",
       "    <tr>\n",
       "      <th>17</th>\n",
       "      <td>0.985045</td>\n",
       "      <td>0.982051</td>\n",
       "      <td>0.0</td>\n",
       "      <td>1.0</td>\n",
       "    </tr>\n",
       "    <tr>\n",
       "      <th>18</th>\n",
       "      <td>0.984958</td>\n",
       "      <td>0.983764</td>\n",
       "      <td>0.0</td>\n",
       "      <td>0.0</td>\n",
       "    </tr>\n",
       "    <tr>\n",
       "      <th>19</th>\n",
       "      <td>0.993606</td>\n",
       "      <td>0.991536</td>\n",
       "      <td>0.0</td>\n",
       "      <td>0.0</td>\n",
       "    </tr>\n",
       "  </tbody>\n",
       "</table>\n",
       "</div>"
      ],
      "text/plain": [
       "        ruki  leningrad  predict  class\n",
       "0   0.985412   0.989702      1.0    1.0\n",
       "1   0.983855   0.984205      1.0    1.0\n",
       "2   0.998728   0.998198      0.0    0.0\n",
       "3   0.911252   0.925949      1.0    1.0\n",
       "4   0.926612   0.938519      1.0    1.0\n",
       "5   0.982587   0.987709      1.0    1.0\n",
       "6   0.991727   0.990166      0.0    1.0\n",
       "7   0.959117   0.961163      1.0    0.0\n",
       "8   0.985815   0.987312      1.0    1.0\n",
       "9   0.991068   0.987346      0.0    0.0\n",
       "10  0.992355   0.991134      0.0    1.0\n",
       "11  0.948356   0.946762      0.0    0.0\n",
       "12  0.983666   0.983099      0.0    0.0\n",
       "13  0.964805   0.959072      0.0    0.0\n",
       "14  0.946323   0.950790      1.0    1.0\n",
       "15  0.965058   0.963775      0.0    1.0\n",
       "16  0.973238   0.969343      0.0    1.0\n",
       "17  0.985045   0.982051      0.0    1.0\n",
       "18  0.984958   0.983764      0.0    0.0\n",
       "19  0.993606   0.991536      0.0    0.0"
      ]
     },
     "execution_count": 217,
     "metadata": {},
     "output_type": "execute_result"
    }
   ],
   "source": [
    "tfidf_ruki = np.apply_along_axis(cosine, 1, tfidf_test.toarray(), v=ruki_mean_tfidf)\n",
    "tfidf_leningrad = np.apply_along_axis(cosine, 1, tfidf_test.toarray(), v=leningrad_mean_tfidf)\n",
    "\n",
    "tfidf_results = pd.DataFrame([\n",
    "    tfidf_ruki,\n",
    "    tfidf_leningrad,\n",
    "    np.maximum(tfidf_ruki, tfidf_leningrad) == tfidf_leningrad,\n",
    "    y_test\n",
    "], index=[\"ruki\", \"leningrad\", \"predict\", \"class\"]).T.astype(np.float)\n",
    "tfidf_results"
   ]
  },
  {
   "cell_type": "code",
   "execution_count": 218,
   "metadata": {},
   "outputs": [
    {
     "data": {
      "text/plain": [
       "0.7"
      ]
     },
     "execution_count": 218,
     "metadata": {},
     "output_type": "execute_result"
    }
   ],
   "source": [
    "accuracy_score(tfidf_results['predict'], tfidf_results['class'])"
   ]
  },
  {
   "cell_type": "code",
   "execution_count": 219,
   "metadata": {},
   "outputs": [
    {
     "name": "stderr",
     "output_type": "stream",
     "text": [
      "C:\\Users\\Gamma\\Anaconda3\\lib\\site-packages\\sklearn\\ensemble\\forest.py:246: FutureWarning: The default value of n_estimators will change from 10 in version 0.20 to 100 in 0.22.\n",
      "  \"10 in version 0.20 to 100 in 0.22.\", FutureWarning)\n"
     ]
    },
    {
     "data": {
      "text/plain": [
       "0.55"
      ]
     },
     "execution_count": 219,
     "metadata": {},
     "output_type": "execute_result"
    }
   ],
   "source": [
    "from sklearn.ensemble import RandomForestClassifier\n",
    "RandomForestClassifier().fit(tfidf_train.toarray(), y_train.tolist()).score(tfidf_test.toarray(), y_test.tolist())"
   ]
  },
  {
   "cell_type": "code",
   "execution_count": 1,
   "metadata": {},
   "outputs": [
    {
     "ename": "NameError",
     "evalue": "name 'X_train' is not defined",
     "output_type": "error",
     "traceback": [
      "\u001b[0;31m---------------------------------------------------------------------------\u001b[0m",
      "\u001b[0;31mNameError\u001b[0m                                 Traceback (most recent call last)",
      "\u001b[0;32m<ipython-input-1-38829d4e2771>\u001b[0m in \u001b[0;36m<module>\u001b[0;34m\u001b[0m\n\u001b[1;32m      2\u001b[0m \u001b[0;32mimport\u001b[0m \u001b[0mnumpy\u001b[0m \u001b[0;32mas\u001b[0m \u001b[0mnp\u001b[0m\u001b[0;34m\u001b[0m\u001b[0;34m\u001b[0m\u001b[0m\n\u001b[1;32m      3\u001b[0m \u001b[0;32mfrom\u001b[0m \u001b[0mgensim\u001b[0m\u001b[0;34m.\u001b[0m\u001b[0mmodels\u001b[0m \u001b[0;32mimport\u001b[0m \u001b[0mWord2Vec\u001b[0m\u001b[0;34m\u001b[0m\u001b[0;34m\u001b[0m\u001b[0m\n\u001b[0;32m----> 4\u001b[0;31m \u001b[0mX_train_w2v\u001b[0m \u001b[0;34m=\u001b[0m \u001b[0mX_train\u001b[0m\u001b[0;34m.\u001b[0m\u001b[0mapply\u001b[0m\u001b[0;34m(\u001b[0m\u001b[0mstr\u001b[0m\u001b[0;34m.\u001b[0m\u001b[0msplit\u001b[0m\u001b[0;34m)\u001b[0m\u001b[0;34m\u001b[0m\u001b[0;34m\u001b[0m\u001b[0m\n\u001b[0m\u001b[1;32m      5\u001b[0m \u001b[0mX_test_w2v\u001b[0m \u001b[0;34m=\u001b[0m \u001b[0mX_test\u001b[0m\u001b[0;34m.\u001b[0m\u001b[0mapply\u001b[0m\u001b[0;34m(\u001b[0m\u001b[0mstr\u001b[0m\u001b[0;34m.\u001b[0m\u001b[0msplit\u001b[0m\u001b[0;34m)\u001b[0m\u001b[0;34m\u001b[0m\u001b[0;34m\u001b[0m\u001b[0m\n\u001b[1;32m      6\u001b[0m \u001b[0mw2v_vect\u001b[0m \u001b[0;34m=\u001b[0m \u001b[0mWord2Vec\u001b[0m\u001b[0;34m(\u001b[0m\u001b[0mnp\u001b[0m\u001b[0;34m.\u001b[0m\u001b[0mhstack\u001b[0m\u001b[0;34m(\u001b[0m\u001b[0;34m[\u001b[0m\u001b[0mX_train_w2v\u001b[0m\u001b[0;34m,\u001b[0m \u001b[0mX_test_w2v\u001b[0m\u001b[0;34m]\u001b[0m\u001b[0;34m)\u001b[0m\u001b[0;34m,\u001b[0m \u001b[0msize\u001b[0m\u001b[0;34m=\u001b[0m\u001b[0;36m40\u001b[0m\u001b[0;34m,\u001b[0m \u001b[0mmin_count\u001b[0m\u001b[0;34m=\u001b[0m\u001b[0;36m5\u001b[0m\u001b[0;34m)\u001b[0m\u001b[0;34m\u001b[0m\u001b[0;34m\u001b[0m\u001b[0m\n",
      "\u001b[0;31mNameError\u001b[0m: name 'X_train' is not defined"
     ]
    }
   ],
   "source": [
    "#Word to vector embedding\n",
    "import numpy as np\n",
    "from gensim.models import Word2Vec\n",
    "X_train_w2v = X_train.apply(str.split)\n",
    "X_test_w2v = X_test.apply(str.split)\n",
    "w2v_vect = Word2Vec(np.hstack([X_train_w2v, X_test_w2v]), size=40, min_count=5)"
   ]
  },
  {
   "cell_type": "code",
   "execution_count": 221,
   "metadata": {},
   "outputs": [
    {
     "data": {
      "text/plain": [
       "35    [дать, ..., дать, свобода, это, мир, всюду, да...\n",
       "41    [жить, свободно, темп, аллегро, глаз, твой, то...\n",
       "45    [острый, игла, яркий, огонь, бег, бег, дорога,...\n",
       "3     [знать, готовый, помчаться, снова, туда, танец...\n",
       "39    [день, весенний, прошептать, вернуть, вернуть,...\n",
       "18    [это, лето, стиль, самба, танцевать, ритм, мам...\n",
       "14    [тихо, светить, луна, вдали, река, широкий, тр...\n",
       "38    [женский, глаз, бывать, разный, гордый, звать,...\n",
       "30    [легко, жить, весь, ввысь, летать, лишь, сон, ...\n",
       "17    [спать, ночной, проспект, лунный, свет, провож...\n",
       "26    [холодное, пот, ночь, просыпаться, кричать, пу...\n",
       "47    [отшуметь, дневный, забота, юный, вечер, пахну...\n",
       "36    [дочь, родиться, шарманщик, добрый, карло, пап...\n",
       "31    [арбат, перемена, арбат, ух, -денёк, предлагат...\n",
       "20    [одинокий, это, мир, ночь, пред, стен, одиноки...\n",
       "12    [ветер, шуметь, негромко, листва, шелестеть, о...\n",
       "24    [дымно, зеркало, отражение, порой, видно, лицо...\n",
       "40    [зеркало, разбитый, осколок, склониться, отраж...\n",
       "10    [крошка, скучать, письмо, получать, далеко, ск...\n",
       "29    [ночь, нежный, ночь, светлый, лечь, узор, пове...\n",
       "7     [здравствовать, плакать, снова, значит, что-то...\n",
       "13    [любить, алешка, большой, алешка, вздыхать, зр...\n",
       "23    [близкие, человек, внезапно, сделаться, дальни...\n",
       "16    [мочь, помочь, ласкать, ласкать, гнать, скорее...\n",
       "5     [мягкий, шёлк, простыня, напомнить, нежность, ...\n",
       "15    [прижаться, словно, невзначай, спать, малыш, б...\n",
       "32    [весь, ничто, случиться, дёрнуться, твёрдый, ч...\n",
       "11    [ай, яй, яй, девчонка, взять, ножка, ай, яй, я...\n",
       "37    [посвящать, весь, песнь, свой, открывать, хоте...\n",
       "Name: text, dtype: object"
      ]
     },
     "execution_count": 221,
     "metadata": {},
     "output_type": "execute_result"
    }
   ],
   "source": [
    "X_train_w2v"
   ]
  },
  {
   "cell_type": "code",
   "execution_count": 222,
   "metadata": {},
   "outputs": [
    {
     "name": "stderr",
     "output_type": "stream",
     "text": [
      "C:\\Users\\Gamma\\Anaconda3\\lib\\site-packages\\ipykernel_launcher.py:8: DeprecationWarning: Call to deprecated `__getitem__` (Method will be removed in 4.0.0, use self.wv.__getitem__() instead).\n",
      "  \n"
     ]
    },
    {
     "data": {
      "text/plain": [
       "35    [0.0018648981, -0.0017575219, -0.0050933505, -...\n",
       "41    [-0.004794912, -0.00020170098, -0.00036036744,...\n",
       "45    [-0.0040069786, 0.0016407197, 0.0024636197, -0...\n",
       "3     [0.00034685552, -0.006646935, 1.1346066e-05, -...\n",
       "39    [-0.002825268, 0.0007823748, -0.00016722502, -...\n",
       "18    [0.00033447813, 0.0009712436, -0.0024436421, -...\n",
       "14    [-0.0045185294, 0.0023274645, -0.0010787925, -...\n",
       "38    [-0.0011305793, -0.006570177, 0.0028787376, -0...\n",
       "30    [-0.0028807484, 0.00031856858, 0.00219461, -0....\n",
       "17    [-0.0037354338, 0.00011767741, -0.0015385906, ...\n",
       "26    [-0.0029802613, 0.0037359097, 0.00023727393, -...\n",
       "47    [-0.004036227, -0.0019573213, -0.0011186862, -...\n",
       "36    [-0.00026246998, 0.004083253, -7.0783326e-06, ...\n",
       "31    [-0.004875654, -1.2397387e-05, 0.00040815372, ...\n",
       "20    [-0.005601709, 0.0014563176, 0.0010720739, -0....\n",
       "12    [-0.0021294998, 0.0018317339, -0.0026304952, -...\n",
       "24    [0.00015215485, 0.0020032378, 0.0023089398, -0...\n",
       "40    [-0.004143966, -0.00042641687, 0.00043273697, ...\n",
       "10    [0.00065353, 0.0013230273, -0.00086385646, 0.0...\n",
       "29    [-0.006880202, -0.004820098, 0.0016832199, -0....\n",
       "7     [-0.0018352332, 0.0006230562, -0.0020698975, -...\n",
       "13    [-0.004006698, 0.004692212, 0.0009908247, -0.0...\n",
       "23    [-0.0031883887, -0.0015244993, 0.0020333333, -...\n",
       "16    [-0.0045991656, 0.0024715855, 0.0009704951, -0...\n",
       "5     [-0.00559028, -0.00074884, -0.00089527457, -0....\n",
       "15    [-0.002016898, -0.0018590197, -0.0021136156, -...\n",
       "32    [-0.0053930236, 0.00028739418, 0.0016708756, -...\n",
       "11    [0.0062973173, -0.0041614794, 0.003734518, -0....\n",
       "37    [-0.004477005, 0.002995356, 0.0026024135, -0.0...\n",
       "Name: text, dtype: object"
      ]
     },
     "execution_count": 222,
     "metadata": {},
     "output_type": "execute_result"
    }
   ],
   "source": [
    "import numpy as np\n",
    "\n",
    "def text2vec(text):\n",
    "    \"\"\"Усредняем векторы слов\"\"\"\n",
    "    vecs = []\n",
    "    for word in text:\n",
    "        try:\n",
    "            vecs.append(w2v_vect[word])\n",
    "        except KeyError:\n",
    "            pass\n",
    "    return np.sum(vecs, axis=0) / len(vecs)\n",
    "\n",
    "w2v_train = X_train_w2v.apply(text2vec)\n",
    "w2v_test = X_test_w2v.apply(text2vec)\n",
    "w2v_train"
   ]
  },
  {
   "cell_type": "code",
   "execution_count": 223,
   "metadata": {},
   "outputs": [
    {
     "data": {
      "text/plain": [
       "(29,)"
      ]
     },
     "execution_count": 223,
     "metadata": {},
     "output_type": "execute_result"
    }
   ],
   "source": [
    "w2v_train.shape"
   ]
  },
  {
   "cell_type": "code",
   "execution_count": 224,
   "metadata": {},
   "outputs": [
    {
     "ename": "KeyError",
     "evalue": "0",
     "output_type": "error",
     "traceback": [
      "\u001b[1;31m---------------------------------------------------------------------------\u001b[0m",
      "\u001b[1;31mKeyError\u001b[0m                                  Traceback (most recent call last)",
      "\u001b[1;32m<ipython-input-224-c7703dd06ac0>\u001b[0m in \u001b[0;36m<module>\u001b[1;34m\u001b[0m\n\u001b[1;32m----> 1\u001b[1;33m \u001b[0mw2v_train\u001b[0m\u001b[1;33m[\u001b[0m\u001b[1;36m0\u001b[0m\u001b[1;33m]\u001b[0m\u001b[1;33m\u001b[0m\u001b[1;33m\u001b[0m\u001b[0m\n\u001b[0m",
      "\u001b[1;32m~\\Anaconda3\\lib\\site-packages\\pandas\\core\\series.py\u001b[0m in \u001b[0;36m__getitem__\u001b[1;34m(self, key)\u001b[0m\n\u001b[0;32m    765\u001b[0m         \u001b[0mkey\u001b[0m \u001b[1;33m=\u001b[0m \u001b[0mcom\u001b[0m\u001b[1;33m.\u001b[0m\u001b[0m_apply_if_callable\u001b[0m\u001b[1;33m(\u001b[0m\u001b[0mkey\u001b[0m\u001b[1;33m,\u001b[0m \u001b[0mself\u001b[0m\u001b[1;33m)\u001b[0m\u001b[1;33m\u001b[0m\u001b[1;33m\u001b[0m\u001b[0m\n\u001b[0;32m    766\u001b[0m         \u001b[1;32mtry\u001b[0m\u001b[1;33m:\u001b[0m\u001b[1;33m\u001b[0m\u001b[1;33m\u001b[0m\u001b[0m\n\u001b[1;32m--> 767\u001b[1;33m             \u001b[0mresult\u001b[0m \u001b[1;33m=\u001b[0m \u001b[0mself\u001b[0m\u001b[1;33m.\u001b[0m\u001b[0mindex\u001b[0m\u001b[1;33m.\u001b[0m\u001b[0mget_value\u001b[0m\u001b[1;33m(\u001b[0m\u001b[0mself\u001b[0m\u001b[1;33m,\u001b[0m \u001b[0mkey\u001b[0m\u001b[1;33m)\u001b[0m\u001b[1;33m\u001b[0m\u001b[1;33m\u001b[0m\u001b[0m\n\u001b[0m\u001b[0;32m    768\u001b[0m \u001b[1;33m\u001b[0m\u001b[0m\n\u001b[0;32m    769\u001b[0m             \u001b[1;32mif\u001b[0m \u001b[1;32mnot\u001b[0m \u001b[0mis_scalar\u001b[0m\u001b[1;33m(\u001b[0m\u001b[0mresult\u001b[0m\u001b[1;33m)\u001b[0m\u001b[1;33m:\u001b[0m\u001b[1;33m\u001b[0m\u001b[1;33m\u001b[0m\u001b[0m\n",
      "\u001b[1;32m~\\Anaconda3\\lib\\site-packages\\pandas\\core\\indexes\\base.py\u001b[0m in \u001b[0;36mget_value\u001b[1;34m(self, series, key)\u001b[0m\n\u001b[0;32m   3116\u001b[0m         \u001b[1;32mtry\u001b[0m\u001b[1;33m:\u001b[0m\u001b[1;33m\u001b[0m\u001b[1;33m\u001b[0m\u001b[0m\n\u001b[0;32m   3117\u001b[0m             return self._engine.get_value(s, k,\n\u001b[1;32m-> 3118\u001b[1;33m                                           tz=getattr(series.dtype, 'tz', None))\n\u001b[0m\u001b[0;32m   3119\u001b[0m         \u001b[1;32mexcept\u001b[0m \u001b[0mKeyError\u001b[0m \u001b[1;32mas\u001b[0m \u001b[0me1\u001b[0m\u001b[1;33m:\u001b[0m\u001b[1;33m\u001b[0m\u001b[1;33m\u001b[0m\u001b[0m\n\u001b[0;32m   3120\u001b[0m             \u001b[1;32mif\u001b[0m \u001b[0mlen\u001b[0m\u001b[1;33m(\u001b[0m\u001b[0mself\u001b[0m\u001b[1;33m)\u001b[0m \u001b[1;33m>\u001b[0m \u001b[1;36m0\u001b[0m \u001b[1;32mand\u001b[0m \u001b[0mself\u001b[0m\u001b[1;33m.\u001b[0m\u001b[0minferred_type\u001b[0m \u001b[1;32min\u001b[0m \u001b[1;33m[\u001b[0m\u001b[1;34m'integer'\u001b[0m\u001b[1;33m,\u001b[0m \u001b[1;34m'boolean'\u001b[0m\u001b[1;33m]\u001b[0m\u001b[1;33m:\u001b[0m\u001b[1;33m\u001b[0m\u001b[1;33m\u001b[0m\u001b[0m\n",
      "\u001b[1;32mpandas\\_libs\\index.pyx\u001b[0m in \u001b[0;36mpandas._libs.index.IndexEngine.get_value\u001b[1;34m()\u001b[0m\n",
      "\u001b[1;32mpandas\\_libs\\index.pyx\u001b[0m in \u001b[0;36mpandas._libs.index.IndexEngine.get_value\u001b[1;34m()\u001b[0m\n",
      "\u001b[1;32mpandas\\_libs\\index.pyx\u001b[0m in \u001b[0;36mpandas._libs.index.IndexEngine.get_loc\u001b[1;34m()\u001b[0m\n",
      "\u001b[1;32mpandas\\_libs\\hashtable_class_helper.pxi\u001b[0m in \u001b[0;36mpandas._libs.hashtable.Int64HashTable.get_item\u001b[1;34m()\u001b[0m\n",
      "\u001b[1;32mpandas\\_libs\\hashtable_class_helper.pxi\u001b[0m in \u001b[0;36mpandas._libs.hashtable.Int64HashTable.get_item\u001b[1;34m()\u001b[0m\n",
      "\u001b[1;31mKeyError\u001b[0m: 0"
     ]
    }
   ],
   "source": [
    "w2v_train[0]"
   ]
  },
  {
   "cell_type": "code",
   "execution_count": 225,
   "metadata": {},
   "outputs": [
    {
     "data": {
      "text/plain": [
       "(40, 29)"
      ]
     },
     "execution_count": 225,
     "metadata": {},
     "output_type": "execute_result"
    }
   ],
   "source": [
    "#w2v_train.drop(w2v_train.index[[0]], inplace=True)\n",
    "w2v_train = np.dstack(w2v_train)[0]\n",
    "w2v_train.shape"
   ]
  },
  {
   "cell_type": "code",
   "execution_count": 226,
   "metadata": {},
   "outputs": [],
   "source": [
    "w2v_test = np.dstack(w2v_test)[0]"
   ]
  },
  {
   "cell_type": "code",
   "execution_count": 227,
   "metadata": {},
   "outputs": [
    {
     "data": {
      "text/plain": [
       "(40,)"
      ]
     },
     "execution_count": 227,
     "metadata": {},
     "output_type": "execute_result"
    }
   ],
   "source": [
    "ruki_mean_w2v = np.sum(w2v_train[:, y_train == 0], axis=1)\n",
    "ruki_mean_w2v.shape"
   ]
  },
  {
   "cell_type": "code",
   "execution_count": 228,
   "metadata": {},
   "outputs": [],
   "source": [
    "leningrad_mean_w2v = np.sum(w2v_train[:, y_train == 1], axis=1)\n"
   ]
  },
  {
   "cell_type": "code",
   "execution_count": 229,
   "metadata": {},
   "outputs": [
    {
     "data": {
      "text/plain": [
       "array([-0.02079956,  0.00094173, -0.00792698, -0.06565264, -0.07361753,\n",
       "        0.12534969,  0.09169909,  0.11834064, -0.12879844,  0.04647215,\n",
       "       -0.10114886, -0.1862827 , -0.02893993,  0.1128549 , -0.07904735,\n",
       "       -0.03442311,  0.10307455, -0.02036589, -0.03962651, -0.02859519,\n",
       "       -0.11183137, -0.16313143, -0.01457642, -0.1046503 , -0.09300938,\n",
       "        0.09575684, -0.28272364,  0.09610929,  0.07500911, -0.0115705 ,\n",
       "        0.04998386,  0.00993926, -0.0763779 ,  0.21129206, -0.06318156,\n",
       "        0.00563464,  0.03889528,  0.12578347,  0.0234468 , -0.12908699],\n",
       "      dtype=float32)"
      ]
     },
     "execution_count": 229,
     "metadata": {},
     "output_type": "execute_result"
    }
   ],
   "source": [
    "ruki_mean_w2v"
   ]
  },
  {
   "cell_type": "code",
   "execution_count": 230,
   "metadata": {},
   "outputs": [
    {
     "data": {
      "text/plain": [
       "array([-5.54603413e-02,  3.29988543e-05,  1.32392803e-02, -1.10458776e-01,\n",
       "       -1.29338369e-01,  1.79640532e-01,  1.40722990e-01,  1.61536425e-01,\n",
       "       -1.82281882e-01,  6.23910762e-02, -1.25727579e-01, -2.45159045e-01,\n",
       "       -4.62973341e-02,  1.62476510e-01, -1.03519462e-01, -6.34151921e-02,\n",
       "        1.64372563e-01, -2.79999468e-02, -8.29101652e-02, -2.43540248e-03,\n",
       "       -1.66191876e-01, -2.23481596e-01,  1.30515150e-03, -1.33403301e-01,\n",
       "       -1.37659043e-01,  1.23786174e-01, -3.91064465e-01,  1.17155313e-01,\n",
       "        8.73685181e-02,  3.91729968e-03,  7.59468675e-02,  3.20126452e-02,\n",
       "       -1.07118048e-01,  2.91415900e-01, -8.01025704e-02,  2.68029682e-02,\n",
       "        3.54807377e-02,  1.80433795e-01,  3.07268417e-03, -2.18457222e-01],\n",
       "      dtype=float32)"
      ]
     },
     "execution_count": 230,
     "metadata": {},
     "output_type": "execute_result"
    }
   ],
   "source": [
    "leningrad_mean_w2v"
   ]
  },
  {
   "cell_type": "code",
   "execution_count": 231,
   "metadata": {},
   "outputs": [
    {
     "name": "stdout",
     "output_type": "stream",
     "text": [
      "[0.03823692 0.05163592 0.08774292 0.01788121 0.01748121 0.03019488\n",
      " 0.0342806  0.04826236 0.02451926 0.06011486 0.01540279 0.02546847\n",
      " 0.0232203  0.01451558 0.02767992 0.01888293 0.02969342 0.02289939\n",
      " 0.02547473 0.06993771]\n",
      "[0.03165329 0.04991227 0.09194189 0.01233327 0.01188439 0.03404546\n",
      " 0.03231061 0.04418045 0.01874226 0.05506098 0.01780915 0.0282169\n",
      " 0.02598393 0.01479864 0.02497089 0.02126187 0.02316809 0.02415591\n",
      " 0.02353537 0.06011683]\n"
     ]
    },
    {
     "data": {
      "text/html": [
       "<div>\n",
       "<style scoped>\n",
       "    .dataframe tbody tr th:only-of-type {\n",
       "        vertical-align: middle;\n",
       "    }\n",
       "\n",
       "    .dataframe tbody tr th {\n",
       "        vertical-align: top;\n",
       "    }\n",
       "\n",
       "    .dataframe thead th {\n",
       "        text-align: right;\n",
       "    }\n",
       "</style>\n",
       "<table border=\"1\" class=\"dataframe\">\n",
       "  <thead>\n",
       "    <tr style=\"text-align: right;\">\n",
       "      <th></th>\n",
       "      <th>ruki</th>\n",
       "      <th>leningrad</th>\n",
       "      <th>predict</th>\n",
       "      <th>class</th>\n",
       "    </tr>\n",
       "  </thead>\n",
       "  <tbody>\n",
       "    <tr>\n",
       "      <th>0</th>\n",
       "      <td>0.038237</td>\n",
       "      <td>0.031653</td>\n",
       "      <td>0.0</td>\n",
       "      <td>1.0</td>\n",
       "    </tr>\n",
       "    <tr>\n",
       "      <th>1</th>\n",
       "      <td>0.051636</td>\n",
       "      <td>0.049912</td>\n",
       "      <td>0.0</td>\n",
       "      <td>1.0</td>\n",
       "    </tr>\n",
       "    <tr>\n",
       "      <th>2</th>\n",
       "      <td>0.087743</td>\n",
       "      <td>0.091942</td>\n",
       "      <td>1.0</td>\n",
       "      <td>0.0</td>\n",
       "    </tr>\n",
       "    <tr>\n",
       "      <th>3</th>\n",
       "      <td>0.017881</td>\n",
       "      <td>0.012333</td>\n",
       "      <td>0.0</td>\n",
       "      <td>1.0</td>\n",
       "    </tr>\n",
       "    <tr>\n",
       "      <th>4</th>\n",
       "      <td>0.017481</td>\n",
       "      <td>0.011884</td>\n",
       "      <td>0.0</td>\n",
       "      <td>1.0</td>\n",
       "    </tr>\n",
       "    <tr>\n",
       "      <th>5</th>\n",
       "      <td>0.030195</td>\n",
       "      <td>0.034045</td>\n",
       "      <td>1.0</td>\n",
       "      <td>1.0</td>\n",
       "    </tr>\n",
       "    <tr>\n",
       "      <th>6</th>\n",
       "      <td>0.034281</td>\n",
       "      <td>0.032311</td>\n",
       "      <td>0.0</td>\n",
       "      <td>1.0</td>\n",
       "    </tr>\n",
       "    <tr>\n",
       "      <th>7</th>\n",
       "      <td>0.048262</td>\n",
       "      <td>0.044180</td>\n",
       "      <td>0.0</td>\n",
       "      <td>0.0</td>\n",
       "    </tr>\n",
       "    <tr>\n",
       "      <th>8</th>\n",
       "      <td>0.024519</td>\n",
       "      <td>0.018742</td>\n",
       "      <td>0.0</td>\n",
       "      <td>1.0</td>\n",
       "    </tr>\n",
       "    <tr>\n",
       "      <th>9</th>\n",
       "      <td>0.060115</td>\n",
       "      <td>0.055061</td>\n",
       "      <td>0.0</td>\n",
       "      <td>0.0</td>\n",
       "    </tr>\n",
       "    <tr>\n",
       "      <th>10</th>\n",
       "      <td>0.015403</td>\n",
       "      <td>0.017809</td>\n",
       "      <td>1.0</td>\n",
       "      <td>1.0</td>\n",
       "    </tr>\n",
       "    <tr>\n",
       "      <th>11</th>\n",
       "      <td>0.025468</td>\n",
       "      <td>0.028217</td>\n",
       "      <td>1.0</td>\n",
       "      <td>0.0</td>\n",
       "    </tr>\n",
       "    <tr>\n",
       "      <th>12</th>\n",
       "      <td>0.023220</td>\n",
       "      <td>0.025984</td>\n",
       "      <td>1.0</td>\n",
       "      <td>0.0</td>\n",
       "    </tr>\n",
       "    <tr>\n",
       "      <th>13</th>\n",
       "      <td>0.014516</td>\n",
       "      <td>0.014799</td>\n",
       "      <td>1.0</td>\n",
       "      <td>0.0</td>\n",
       "    </tr>\n",
       "    <tr>\n",
       "      <th>14</th>\n",
       "      <td>0.027680</td>\n",
       "      <td>0.024971</td>\n",
       "      <td>0.0</td>\n",
       "      <td>1.0</td>\n",
       "    </tr>\n",
       "    <tr>\n",
       "      <th>15</th>\n",
       "      <td>0.018883</td>\n",
       "      <td>0.021262</td>\n",
       "      <td>1.0</td>\n",
       "      <td>1.0</td>\n",
       "    </tr>\n",
       "    <tr>\n",
       "      <th>16</th>\n",
       "      <td>0.029693</td>\n",
       "      <td>0.023168</td>\n",
       "      <td>0.0</td>\n",
       "      <td>1.0</td>\n",
       "    </tr>\n",
       "    <tr>\n",
       "      <th>17</th>\n",
       "      <td>0.022899</td>\n",
       "      <td>0.024156</td>\n",
       "      <td>1.0</td>\n",
       "      <td>1.0</td>\n",
       "    </tr>\n",
       "    <tr>\n",
       "      <th>18</th>\n",
       "      <td>0.025475</td>\n",
       "      <td>0.023535</td>\n",
       "      <td>0.0</td>\n",
       "      <td>0.0</td>\n",
       "    </tr>\n",
       "    <tr>\n",
       "      <th>19</th>\n",
       "      <td>0.069938</td>\n",
       "      <td>0.060117</td>\n",
       "      <td>0.0</td>\n",
       "      <td>0.0</td>\n",
       "    </tr>\n",
       "  </tbody>\n",
       "</table>\n",
       "</div>"
      ],
      "text/plain": [
       "        ruki  leningrad  predict  class\n",
       "0   0.038237   0.031653      0.0    1.0\n",
       "1   0.051636   0.049912      0.0    1.0\n",
       "2   0.087743   0.091942      1.0    0.0\n",
       "3   0.017881   0.012333      0.0    1.0\n",
       "4   0.017481   0.011884      0.0    1.0\n",
       "5   0.030195   0.034045      1.0    1.0\n",
       "6   0.034281   0.032311      0.0    1.0\n",
       "7   0.048262   0.044180      0.0    0.0\n",
       "8   0.024519   0.018742      0.0    1.0\n",
       "9   0.060115   0.055061      0.0    0.0\n",
       "10  0.015403   0.017809      1.0    1.0\n",
       "11  0.025468   0.028217      1.0    0.0\n",
       "12  0.023220   0.025984      1.0    0.0\n",
       "13  0.014516   0.014799      1.0    0.0\n",
       "14  0.027680   0.024971      0.0    1.0\n",
       "15  0.018883   0.021262      1.0    1.0\n",
       "16  0.029693   0.023168      0.0    1.0\n",
       "17  0.022899   0.024156      1.0    1.0\n",
       "18  0.025475   0.023535      0.0    0.0\n",
       "19  0.069938   0.060117      0.0    0.0"
      ]
     },
     "execution_count": 231,
     "metadata": {},
     "output_type": "execute_result"
    }
   ],
   "source": [
    "from sklearn.metrics import accuracy_score\n",
    "from scipy.spatial.distance import cosine\n",
    "\n",
    "\n",
    "w2v_ruki = np.apply_along_axis(cosine, 0, w2v_test, v=ruki_mean_w2v)\n",
    "w2v_leningrad = np.apply_along_axis(cosine, 0, w2v_test, v=leningrad_mean_w2v)\n",
    "\n",
    "print(w2v_ruki)\n",
    "print(w2v_leningrad)\n",
    "\n",
    "w2v_results = pd.DataFrame([\n",
    "    w2v_ruki,\n",
    "    w2v_leningrad,\n",
    "    np.maximum(w2v_ruki, w2v_leningrad) == w2v_leningrad,\n",
    "    y_test\n",
    "], index=[\"ruki\", \"leningrad\", \"predict\", \"class\"]).T.astype(np.float)\n",
    "w2v_results"
   ]
  },
  {
   "cell_type": "code",
   "execution_count": 232,
   "metadata": {},
   "outputs": [
    {
     "data": {
      "text/plain": [
       "0.4"
      ]
     },
     "execution_count": 232,
     "metadata": {},
     "output_type": "execute_result"
    }
   ],
   "source": [
    "accuracy_score(w2v_results['predict'], w2v_results['class'])"
   ]
  },
  {
   "cell_type": "code",
   "execution_count": 233,
   "metadata": {},
   "outputs": [],
   "source": [
    "from sklearn.ensemble import RandomForestClassifier"
   ]
  },
  {
   "cell_type": "code",
   "execution_count": 202,
   "metadata": {},
   "outputs": [
    {
     "name": "stderr",
     "output_type": "stream",
     "text": [
      "C:\\Users\\Gamma\\Anaconda3\\lib\\site-packages\\sklearn\\ensemble\\forest.py:246: FutureWarning: The default value of n_estimators will change from 10 in version 0.20 to 100 in 0.22.\n",
      "  \"10 in version 0.20 to 100 in 0.22.\", FutureWarning)\n"
     ]
    },
    {
     "data": {
      "text/plain": [
       "0.64"
      ]
     },
     "execution_count": 202,
     "metadata": {},
     "output_type": "execute_result"
    }
   ],
   "source": [
    "RandomForestClassifier().fit(w2v_train.T, y_train.tolist()).score(w2v_test.T, y_test.tolist())"
   ]
  }
 ],
 "metadata": {
  "kernelspec": {
   "display_name": "Python 3",
   "language": "python",
   "name": "python3"
  },
  "language_info": {
   "codemirror_mode": {
    "name": "ipython",
    "version": 3
   },
   "file_extension": ".py",
   "mimetype": "text/x-python",
   "name": "python",
   "nbconvert_exporter": "python",
   "pygments_lexer": "ipython3",
   "version": "3.6.9"
  }
 },
 "nbformat": 4,
 "nbformat_minor": 2
}
