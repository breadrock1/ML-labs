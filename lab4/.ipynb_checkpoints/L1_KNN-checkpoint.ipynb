{
 "cells": [
  {
   "cell_type": "markdown",
   "metadata": {
    "colab_type": "text",
    "id": "qL-K_rov9318"
   },
   "source": [
    "# Метод ближайших соседей\n",
    "\n",
    "Для начала подключим библиотеки, которые нам понадобятся. Если библиотека не установлена, нужно выполнить команду:\n",
    "\n",
    "!pip install <название библиотеки>\n",
    "\n",
    "Например:\n",
    "\n",
    "!pip install sklearn"
   ]
  },
  {
   "cell_type": "code",
   "execution_count": 2,
   "metadata": {
    "colab": {
     "base_uri": "https://localhost:8080/",
     "height": 129
    },
    "colab_type": "code",
    "executionInfo": {
     "elapsed": 21695,
     "status": "ok",
     "timestamp": 1571491729303,
     "user": {
      "displayName": "Иван Романов",
      "photoUrl": "",
      "userId": "05119643280596747163"
     },
     "user_tz": -180
    },
    "id": "dtktXWwG931_",
    "outputId": "30571b1c-b865-49fb-e047-fa5cc6d7c896"
   },
   "outputs": [
    {
     "name": "stdout",
     "output_type": "stream",
     "text": [
      "Go to this URL in a browser: https://accounts.google.com/o/oauth2/auth?client_id=947318989803-6bn6qk8qdgf4n4g3pfee6491hc0brc4i.apps.googleusercontent.com&redirect_uri=urn%3Aietf%3Awg%3Aoauth%3A2.0%3Aoob&scope=email%20https%3A%2F%2Fwww.googleapis.com%2Fauth%2Fdocs.test%20https%3A%2F%2Fwww.googleapis.com%2Fauth%2Fdrive%20https%3A%2F%2Fwww.googleapis.com%2Fauth%2Fdrive.photos.readonly%20https%3A%2F%2Fwww.googleapis.com%2Fauth%2Fpeopleapi.readonly&response_type=code\n",
      "\n",
      "Enter your authorization code:\n",
      "··········\n",
      "Mounted at /content/drive\n"
     ]
    }
   ],
   "source": [
    "import pandas as pd\n",
    "import numpy as np\n",
    "import matplotlib.pyplot as plt\n",
    "%matplotlib inline\n",
    "\n",
    "from google.colab import drive\n",
    "drive.mount('/content/drive')"
   ]
  },
  {
   "cell_type": "markdown",
   "metadata": {
    "colab_type": "text",
    "id": "XL9nnzW7932H"
   },
   "source": [
    "Загрузим данные в наш ноутбук. Чаще всего данные хранят в двух форматах: csv (comma-separated file) и excel. Загрузка данных производится командами pandas.read_csv и pandas.read_excel. Аргументом подается путь к файлу (полный или относительный). Для read_csv часто бывает нужен еще аргумент sep, который задает символ, разделяющий значения в файле.\n",
    "Документация: https://pandas.pydata.org/pandas-docs/stable/generated/pandas.read_csv.html"
   ]
  },
  {
   "cell_type": "code",
   "execution_count": 3,
   "metadata": {
    "colab": {
     "base_uri": "https://localhost:8080/",
     "height": 539
    },
    "colab_type": "code",
    "executionInfo": {
     "elapsed": 22779,
     "status": "ok",
     "timestamp": 1571491730402,
     "user": {
      "displayName": "Иван Романов",
      "photoUrl": "",
      "userId": "05119643280596747163"
     },
     "user_tz": -180
    },
    "id": "NGG5psna932J",
    "outputId": "96173756-9e52-431b-9a23-8714f3294b05"
   },
   "outputs": [
    {
     "data": {
      "text/html": [
       "<div>\n",
       "<style scoped>\n",
       "    .dataframe tbody tr th:only-of-type {\n",
       "        vertical-align: middle;\n",
       "    }\n",
       "\n",
       "    .dataframe tbody tr th {\n",
       "        vertical-align: top;\n",
       "    }\n",
       "\n",
       "    .dataframe thead th {\n",
       "        text-align: right;\n",
       "    }\n",
       "</style>\n",
       "<table border=\"1\" class=\"dataframe\">\n",
       "  <thead>\n",
       "    <tr style=\"text-align: right;\">\n",
       "      <th></th>\n",
       "      <th>S.No</th>\n",
       "      <th>actual</th>\n",
       "      <th>pred</th>\n",
       "      <th>alive</th>\n",
       "      <th>plod</th>\n",
       "      <th>name</th>\n",
       "      <th>title</th>\n",
       "      <th>male</th>\n",
       "      <th>culture</th>\n",
       "      <th>dateOfBirth</th>\n",
       "      <th>DateoFdeath</th>\n",
       "      <th>mother</th>\n",
       "      <th>father</th>\n",
       "      <th>heir</th>\n",
       "      <th>house</th>\n",
       "      <th>spouse</th>\n",
       "      <th>book1</th>\n",
       "      <th>book2</th>\n",
       "      <th>book3</th>\n",
       "      <th>book4</th>\n",
       "      <th>book5</th>\n",
       "      <th>isAliveMother</th>\n",
       "      <th>isAliveFather</th>\n",
       "      <th>isAliveHeir</th>\n",
       "      <th>isAliveSpouse</th>\n",
       "      <th>isMarried</th>\n",
       "      <th>isNoble</th>\n",
       "      <th>age</th>\n",
       "      <th>numDeadRelations</th>\n",
       "      <th>boolDeadRelations</th>\n",
       "      <th>isPopular</th>\n",
       "      <th>popularity</th>\n",
       "      <th>isAlive</th>\n",
       "    </tr>\n",
       "  </thead>\n",
       "  <tbody>\n",
       "    <tr>\n",
       "      <th>0</th>\n",
       "      <td>1</td>\n",
       "      <td>0</td>\n",
       "      <td>0</td>\n",
       "      <td>0.054</td>\n",
       "      <td>0.946</td>\n",
       "      <td>Viserys II Targaryen</td>\n",
       "      <td>NaN</td>\n",
       "      <td>1</td>\n",
       "      <td>NaN</td>\n",
       "      <td>NaN</td>\n",
       "      <td>NaN</td>\n",
       "      <td>Rhaenyra Targaryen</td>\n",
       "      <td>Daemon Targaryen</td>\n",
       "      <td>Aegon IV Targaryen</td>\n",
       "      <td>NaN</td>\n",
       "      <td>NaN</td>\n",
       "      <td>0</td>\n",
       "      <td>0</td>\n",
       "      <td>0</td>\n",
       "      <td>0</td>\n",
       "      <td>0</td>\n",
       "      <td>1.0</td>\n",
       "      <td>0.0</td>\n",
       "      <td>0.0</td>\n",
       "      <td>NaN</td>\n",
       "      <td>0</td>\n",
       "      <td>0</td>\n",
       "      <td>NaN</td>\n",
       "      <td>11</td>\n",
       "      <td>1</td>\n",
       "      <td>1</td>\n",
       "      <td>0.605351</td>\n",
       "      <td>0</td>\n",
       "    </tr>\n",
       "    <tr>\n",
       "      <th>1</th>\n",
       "      <td>2</td>\n",
       "      <td>1</td>\n",
       "      <td>0</td>\n",
       "      <td>0.387</td>\n",
       "      <td>0.613</td>\n",
       "      <td>Walder Frey</td>\n",
       "      <td>Lord of the Crossing</td>\n",
       "      <td>1</td>\n",
       "      <td>Rivermen</td>\n",
       "      <td>208.0</td>\n",
       "      <td>NaN</td>\n",
       "      <td>NaN</td>\n",
       "      <td>NaN</td>\n",
       "      <td>NaN</td>\n",
       "      <td>House Frey</td>\n",
       "      <td>Perra Royce</td>\n",
       "      <td>1</td>\n",
       "      <td>1</td>\n",
       "      <td>1</td>\n",
       "      <td>1</td>\n",
       "      <td>1</td>\n",
       "      <td>NaN</td>\n",
       "      <td>NaN</td>\n",
       "      <td>NaN</td>\n",
       "      <td>1.0</td>\n",
       "      <td>1</td>\n",
       "      <td>1</td>\n",
       "      <td>97.0</td>\n",
       "      <td>1</td>\n",
       "      <td>1</td>\n",
       "      <td>1</td>\n",
       "      <td>0.896321</td>\n",
       "      <td>1</td>\n",
       "    </tr>\n",
       "    <tr>\n",
       "      <th>2</th>\n",
       "      <td>3</td>\n",
       "      <td>1</td>\n",
       "      <td>0</td>\n",
       "      <td>0.493</td>\n",
       "      <td>0.507</td>\n",
       "      <td>Addison Hill</td>\n",
       "      <td>Ser</td>\n",
       "      <td>1</td>\n",
       "      <td>NaN</td>\n",
       "      <td>NaN</td>\n",
       "      <td>NaN</td>\n",
       "      <td>NaN</td>\n",
       "      <td>NaN</td>\n",
       "      <td>NaN</td>\n",
       "      <td>House Swyft</td>\n",
       "      <td>NaN</td>\n",
       "      <td>0</td>\n",
       "      <td>0</td>\n",
       "      <td>0</td>\n",
       "      <td>1</td>\n",
       "      <td>0</td>\n",
       "      <td>NaN</td>\n",
       "      <td>NaN</td>\n",
       "      <td>NaN</td>\n",
       "      <td>NaN</td>\n",
       "      <td>0</td>\n",
       "      <td>1</td>\n",
       "      <td>NaN</td>\n",
       "      <td>0</td>\n",
       "      <td>0</td>\n",
       "      <td>0</td>\n",
       "      <td>0.267559</td>\n",
       "      <td>1</td>\n",
       "    </tr>\n",
       "    <tr>\n",
       "      <th>3</th>\n",
       "      <td>4</td>\n",
       "      <td>0</td>\n",
       "      <td>0</td>\n",
       "      <td>0.076</td>\n",
       "      <td>0.924</td>\n",
       "      <td>Aemma Arryn</td>\n",
       "      <td>Queen</td>\n",
       "      <td>0</td>\n",
       "      <td>NaN</td>\n",
       "      <td>82.0</td>\n",
       "      <td>105.0</td>\n",
       "      <td>NaN</td>\n",
       "      <td>NaN</td>\n",
       "      <td>NaN</td>\n",
       "      <td>House Arryn</td>\n",
       "      <td>Viserys I Targaryen</td>\n",
       "      <td>0</td>\n",
       "      <td>0</td>\n",
       "      <td>0</td>\n",
       "      <td>0</td>\n",
       "      <td>0</td>\n",
       "      <td>NaN</td>\n",
       "      <td>NaN</td>\n",
       "      <td>NaN</td>\n",
       "      <td>0.0</td>\n",
       "      <td>1</td>\n",
       "      <td>1</td>\n",
       "      <td>23.0</td>\n",
       "      <td>0</td>\n",
       "      <td>0</td>\n",
       "      <td>0</td>\n",
       "      <td>0.183946</td>\n",
       "      <td>0</td>\n",
       "    </tr>\n",
       "    <tr>\n",
       "      <th>4</th>\n",
       "      <td>5</td>\n",
       "      <td>1</td>\n",
       "      <td>1</td>\n",
       "      <td>0.617</td>\n",
       "      <td>0.383</td>\n",
       "      <td>Sylva Santagar</td>\n",
       "      <td>Greenstone</td>\n",
       "      <td>0</td>\n",
       "      <td>Dornish</td>\n",
       "      <td>276.0</td>\n",
       "      <td>NaN</td>\n",
       "      <td>NaN</td>\n",
       "      <td>NaN</td>\n",
       "      <td>NaN</td>\n",
       "      <td>House Santagar</td>\n",
       "      <td>Eldon Estermont</td>\n",
       "      <td>0</td>\n",
       "      <td>0</td>\n",
       "      <td>0</td>\n",
       "      <td>1</td>\n",
       "      <td>0</td>\n",
       "      <td>NaN</td>\n",
       "      <td>NaN</td>\n",
       "      <td>NaN</td>\n",
       "      <td>1.0</td>\n",
       "      <td>1</td>\n",
       "      <td>1</td>\n",
       "      <td>29.0</td>\n",
       "      <td>0</td>\n",
       "      <td>0</td>\n",
       "      <td>0</td>\n",
       "      <td>0.043478</td>\n",
       "      <td>1</td>\n",
       "    </tr>\n",
       "    <tr>\n",
       "      <th>5</th>\n",
       "      <td>6</td>\n",
       "      <td>1</td>\n",
       "      <td>0</td>\n",
       "      <td>0.021</td>\n",
       "      <td>0.979</td>\n",
       "      <td>Tommen Baratheon</td>\n",
       "      <td>NaN</td>\n",
       "      <td>1</td>\n",
       "      <td>NaN</td>\n",
       "      <td>NaN</td>\n",
       "      <td>NaN</td>\n",
       "      <td>Cersei Lannister</td>\n",
       "      <td>Robert Baratheon</td>\n",
       "      <td>Myrcella Baratheon</td>\n",
       "      <td>NaN</td>\n",
       "      <td>NaN</td>\n",
       "      <td>0</td>\n",
       "      <td>0</td>\n",
       "      <td>0</td>\n",
       "      <td>0</td>\n",
       "      <td>0</td>\n",
       "      <td>1.0</td>\n",
       "      <td>1.0</td>\n",
       "      <td>1.0</td>\n",
       "      <td>NaN</td>\n",
       "      <td>0</td>\n",
       "      <td>0</td>\n",
       "      <td>NaN</td>\n",
       "      <td>5</td>\n",
       "      <td>1</td>\n",
       "      <td>1</td>\n",
       "      <td>1.000000</td>\n",
       "      <td>1</td>\n",
       "    </tr>\n",
       "    <tr>\n",
       "      <th>6</th>\n",
       "      <td>7</td>\n",
       "      <td>0</td>\n",
       "      <td>0</td>\n",
       "      <td>0.014</td>\n",
       "      <td>0.986</td>\n",
       "      <td>Valarr Targaryen</td>\n",
       "      <td>Hand of the King</td>\n",
       "      <td>1</td>\n",
       "      <td>Valyrian</td>\n",
       "      <td>183.0</td>\n",
       "      <td>209.0</td>\n",
       "      <td>NaN</td>\n",
       "      <td>NaN</td>\n",
       "      <td>NaN</td>\n",
       "      <td>House Targaryen</td>\n",
       "      <td>Kiera of Tyrosh</td>\n",
       "      <td>0</td>\n",
       "      <td>0</td>\n",
       "      <td>0</td>\n",
       "      <td>0</td>\n",
       "      <td>0</td>\n",
       "      <td>NaN</td>\n",
       "      <td>NaN</td>\n",
       "      <td>NaN</td>\n",
       "      <td>1.0</td>\n",
       "      <td>1</td>\n",
       "      <td>1</td>\n",
       "      <td>26.0</td>\n",
       "      <td>0</td>\n",
       "      <td>0</td>\n",
       "      <td>1</td>\n",
       "      <td>0.431438</td>\n",
       "      <td>0</td>\n",
       "    </tr>\n",
       "    <tr>\n",
       "      <th>7</th>\n",
       "      <td>8</td>\n",
       "      <td>0</td>\n",
       "      <td>0</td>\n",
       "      <td>0.036</td>\n",
       "      <td>0.964</td>\n",
       "      <td>Viserys I Targaryen</td>\n",
       "      <td>NaN</td>\n",
       "      <td>1</td>\n",
       "      <td>NaN</td>\n",
       "      <td>NaN</td>\n",
       "      <td>NaN</td>\n",
       "      <td>Alyssa Targaryen</td>\n",
       "      <td>Baelon Targaryen</td>\n",
       "      <td>Rhaenyra Targaryen</td>\n",
       "      <td>NaN</td>\n",
       "      <td>NaN</td>\n",
       "      <td>0</td>\n",
       "      <td>0</td>\n",
       "      <td>0</td>\n",
       "      <td>0</td>\n",
       "      <td>0</td>\n",
       "      <td>1.0</td>\n",
       "      <td>1.0</td>\n",
       "      <td>1.0</td>\n",
       "      <td>NaN</td>\n",
       "      <td>0</td>\n",
       "      <td>0</td>\n",
       "      <td>NaN</td>\n",
       "      <td>5</td>\n",
       "      <td>1</td>\n",
       "      <td>1</td>\n",
       "      <td>0.678930</td>\n",
       "      <td>0</td>\n",
       "    </tr>\n",
       "    <tr>\n",
       "      <th>8</th>\n",
       "      <td>9</td>\n",
       "      <td>0</td>\n",
       "      <td>1</td>\n",
       "      <td>0.724</td>\n",
       "      <td>0.276</td>\n",
       "      <td>Wilbert</td>\n",
       "      <td>Ser</td>\n",
       "      <td>1</td>\n",
       "      <td>NaN</td>\n",
       "      <td>NaN</td>\n",
       "      <td>298.0</td>\n",
       "      <td>NaN</td>\n",
       "      <td>NaN</td>\n",
       "      <td>NaN</td>\n",
       "      <td>NaN</td>\n",
       "      <td>NaN</td>\n",
       "      <td>0</td>\n",
       "      <td>0</td>\n",
       "      <td>1</td>\n",
       "      <td>0</td>\n",
       "      <td>0</td>\n",
       "      <td>NaN</td>\n",
       "      <td>NaN</td>\n",
       "      <td>NaN</td>\n",
       "      <td>NaN</td>\n",
       "      <td>0</td>\n",
       "      <td>1</td>\n",
       "      <td>NaN</td>\n",
       "      <td>0</td>\n",
       "      <td>0</td>\n",
       "      <td>0</td>\n",
       "      <td>0.006689</td>\n",
       "      <td>0</td>\n",
       "    </tr>\n",
       "    <tr>\n",
       "      <th>9</th>\n",
       "      <td>10</td>\n",
       "      <td>1</td>\n",
       "      <td>0</td>\n",
       "      <td>0.391</td>\n",
       "      <td>0.609</td>\n",
       "      <td>Wilbert Osgrey</td>\n",
       "      <td>Ser</td>\n",
       "      <td>1</td>\n",
       "      <td>NaN</td>\n",
       "      <td>NaN</td>\n",
       "      <td>NaN</td>\n",
       "      <td>NaN</td>\n",
       "      <td>NaN</td>\n",
       "      <td>NaN</td>\n",
       "      <td>House Osgrey</td>\n",
       "      <td>NaN</td>\n",
       "      <td>0</td>\n",
       "      <td>0</td>\n",
       "      <td>0</td>\n",
       "      <td>0</td>\n",
       "      <td>0</td>\n",
       "      <td>NaN</td>\n",
       "      <td>NaN</td>\n",
       "      <td>NaN</td>\n",
       "      <td>NaN</td>\n",
       "      <td>0</td>\n",
       "      <td>1</td>\n",
       "      <td>NaN</td>\n",
       "      <td>0</td>\n",
       "      <td>0</td>\n",
       "      <td>0</td>\n",
       "      <td>0.020067</td>\n",
       "      <td>1</td>\n",
       "    </tr>\n",
       "  </tbody>\n",
       "</table>\n",
       "</div>"
      ],
      "text/plain": [
       "   S.No  actual  pred  alive  ...  boolDeadRelations isPopular popularity  isAlive\n",
       "0     1       0     0  0.054  ...                  1         1   0.605351        0\n",
       "1     2       1     0  0.387  ...                  1         1   0.896321        1\n",
       "2     3       1     0  0.493  ...                  0         0   0.267559        1\n",
       "3     4       0     0  0.076  ...                  0         0   0.183946        0\n",
       "4     5       1     1  0.617  ...                  0         0   0.043478        1\n",
       "5     6       1     0  0.021  ...                  1         1   1.000000        1\n",
       "6     7       0     0  0.014  ...                  0         1   0.431438        0\n",
       "7     8       0     0  0.036  ...                  1         1   0.678930        0\n",
       "8     9       0     1  0.724  ...                  0         0   0.006689        0\n",
       "9    10       1     0  0.391  ...                  0         0   0.020067        1\n",
       "\n",
       "[10 rows x 33 columns]"
      ]
     },
     "execution_count": 3,
     "metadata": {
      "tags": []
     },
     "output_type": "execute_result"
    }
   ],
   "source": [
    "data = pd.read_csv('/content/drive/My Drive/Colab Notebooks/character-predictions.csv', sep=',')\n",
    "# Посмотрим на несколько записей из набора данных\n",
    "data.head(10)"
   ]
  },
  {
   "cell_type": "code",
   "execution_count": 4,
   "metadata": {
    "colab": {
     "base_uri": "https://localhost:8080/",
     "height": 719
    },
    "colab_type": "code",
    "executionInfo": {
     "elapsed": 22770,
     "status": "ok",
     "timestamp": 1571491730405,
     "user": {
      "displayName": "Иван Романов",
      "photoUrl": "",
      "userId": "05119643280596747163"
     },
     "user_tz": -180
    },
    "id": "qVzbSKU1932O",
    "outputId": "72447568-88aa-4145-ff0a-76b411a7bbf0"
   },
   "outputs": [
    {
     "name": "stdout",
     "output_type": "stream",
     "text": [
      "<class 'pandas.core.frame.DataFrame'>\n",
      "RangeIndex: 1946 entries, 0 to 1945\n",
      "Data columns (total 33 columns):\n",
      "S.No                 1946 non-null int64\n",
      "actual               1946 non-null int64\n",
      "pred                 1946 non-null int64\n",
      "alive                1946 non-null float64\n",
      "plod                 1946 non-null float64\n",
      "name                 1946 non-null object\n",
      "title                938 non-null object\n",
      "male                 1946 non-null int64\n",
      "culture              677 non-null object\n",
      "dateOfBirth          433 non-null float64\n",
      "DateoFdeath          444 non-null float64\n",
      "mother               21 non-null object\n",
      "father               26 non-null object\n",
      "heir                 23 non-null object\n",
      "house                1519 non-null object\n",
      "spouse               276 non-null object\n",
      "book1                1946 non-null int64\n",
      "book2                1946 non-null int64\n",
      "book3                1946 non-null int64\n",
      "book4                1946 non-null int64\n",
      "book5                1946 non-null int64\n",
      "isAliveMother        21 non-null float64\n",
      "isAliveFather        26 non-null float64\n",
      "isAliveHeir          23 non-null float64\n",
      "isAliveSpouse        276 non-null float64\n",
      "isMarried            1946 non-null int64\n",
      "isNoble              1946 non-null int64\n",
      "age                  433 non-null float64\n",
      "numDeadRelations     1946 non-null int64\n",
      "boolDeadRelations    1946 non-null int64\n",
      "isPopular            1946 non-null int64\n",
      "popularity           1946 non-null float64\n",
      "isAlive              1946 non-null int64\n",
      "dtypes: float64(10), int64(15), object(8)\n",
      "memory usage: 501.8+ KB\n"
     ]
    }
   ],
   "source": [
    "data.info()"
   ]
  },
  {
   "cell_type": "markdown",
   "metadata": {
    "colab_type": "text",
    "id": "dTvltapH932U"
   },
   "source": [
    "Этот набор данных - список героев \"Игры престолов\". По каждому из них собрано довольно много информации: присутствуют как категориальные, так и булевские, и числовые признаки. Будем предсказывать значение переменной isAlive, которая означает, жив ли персонаж в данное время. Эта задача - задача бинарной классификации. В рамках этой лабораторки проверим гипотезу о том, что умирающие герои могут быть \"близки\" по собранным параметрам.\n",
    "\n",
    "В нашей выборке есть признаки \"номер\" записи и имя героя. Очевидно, они нам не понадобятся. Выбросим их из выборки:"
   ]
  },
  {
   "cell_type": "code",
   "execution_count": 0,
   "metadata": {
    "colab": {},
    "colab_type": "code",
    "id": "yHrne4A4932V"
   },
   "outputs": [],
   "source": [
    "data = data.drop(['S.No', 'name'], axis='columns') # первый аргумент - список ненужных признаков,\n",
    "                                                   # второй - поиск имен признаков по названиям колонок, а не строк"
   ]
  },
  {
   "cell_type": "markdown",
   "metadata": {
    "colab_type": "text",
    "id": "G3UZKO0F932Y"
   },
   "source": [
    "Посмотрим, можем ли мы выбросить еще какие-нибудь признаки из нашей таблицы. Это стоит делать, поскольку чем меньше признаков - тем легче вычислять расстояние между объектами, то есть алгоритм будет работать быстрее. Посмотрим на корреляцию признаков между собой. Построим графическое представление модуля значения корреляции попарно между признаками."
   ]
  },
  {
   "cell_type": "code",
   "execution_count": 6,
   "metadata": {
    "colab": {
     "base_uri": "https://localhost:8080/",
     "height": 931
    },
    "colab_type": "code",
    "executionInfo": {
     "elapsed": 24103,
     "status": "ok",
     "timestamp": 1571491731750,
     "user": {
      "displayName": "Иван Романов",
      "photoUrl": "",
      "userId": "05119643280596747163"
     },
     "user_tz": -180
    },
    "id": "aeWIQqCL932a",
    "outputId": "4dc04c35-a554-42bf-e4b2-9de929488fbc"
   },
   "outputs": [
    {
     "data": {
      "text/plain": [
       "<matplotlib.axes._subplots.AxesSubplot at 0x7f7448f04a90>"
      ]
     },
     "execution_count": 6,
     "metadata": {
      "tags": []
     },
     "output_type": "execute_result"
    },
    {
     "data": {
      "image/png": "[encoded data removed]",
      "text/plain": [
       "<Figure size 864x1008 with 2 Axes>"
      ]
     },
     "metadata": {
      "tags": []
     },
     "output_type": "display_data"
    }
   ],
   "source": [
    "# Картинку отрисуем с помощью библиотеки seaborn\n",
    "import seaborn as sns\n",
    "# Подсчитаем корреляцию и возьмем модуль от нее\n",
    "corr = data.corr().abs()\n",
    "# Следующая команда устанавливает размер картинки (по умолчанию она довольно маленькая)\n",
    "sns.set(rc={'figure.figsize':(12, 14)})\n",
    "# Нарисуем картинку\n",
    "sns.heatmap(corr, \n",
    "            xticklabels=corr.columns.values,\n",
    "            yticklabels=corr.columns.values)"
   ]
  },
  {
   "cell_type": "markdown",
   "metadata": {
    "colab_type": "text",
    "id": "q6qu0X-H932d"
   },
   "source": [
    "![%D0%B8%D0%B7%D0%BE%D0%B1%D1%80%D0%B0%D0%B6%D0%B5%D0%BD%D0%B8%D0%B5.png](attachment:%D0%B8%D0%B7%D0%BE%D0%B1%D1%80%D0%B0%D0%B6%D0%B5%D0%BD%D0%B8%D0%B5.png)"
   ]
  },
  {
   "cell_type": "markdown",
   "metadata": {
    "colab_type": "text",
    "id": "2lr-gCRr932f"
   },
   "source": [
    "Удалим из выборки признаки, высоко коррелирующие с другими признаками - зачем они нам?) Уберем еще один признак dateOfDeath, потому что он однозначно повторяет целевую переменную: если есть значение - значит, герой мертв."
   ]
  },
  {
   "cell_type": "code",
   "execution_count": 0,
   "metadata": {
    "colab": {},
    "colab_type": "code",
    "id": "y0ypawcI932i"
   },
   "outputs": [],
   "source": [
    "data = data.drop(['pred', 'plod', 'dateOfBirth', 'DateoFdeath'], axis='columns')"
   ]
  },
  {
   "cell_type": "markdown",
   "metadata": {
    "colab_type": "text",
    "id": "bbnN3p-q932n"
   },
   "source": [
    "Мы оставили один признак с высокой корреляцией - actual. Исходного описания к этому набору данных не было, поэтому нельзя однозначно сказать, что он означает, но, видимо, это некоторая \"актуальность\" персонажа, знак того, фигурирует ли он в данный момент в сюжете. Этот признак коррелирует с нашей целевой переменной, которую мы не используем в признаковом описании объектов, поэтому стоит его оставить. Забегая вперед, сразу можно сказать, что на таких данных шикарно будут работать линейные методы, о которых мы поговорим через пару занятий.\n",
    "\n",
    "Посмотрим на признаки, которые остались после прореживания."
   ]
  },
  {
   "cell_type": "code",
   "execution_count": 8,
   "metadata": {
    "colab": {
     "base_uri": "https://localhost:8080/",
     "height": 313
    },
    "colab_type": "code",
    "executionInfo": {
     "elapsed": 24088,
     "status": "ok",
     "timestamp": 1571491731752,
     "user": {
      "displayName": "Иван Романов",
      "photoUrl": "",
      "userId": "05119643280596747163"
     },
     "user_tz": -180
    },
    "id": "92aeOve5932o",
    "outputId": "18ea2f5b-7644-4294-b4db-e7257a135329"
   },
   "outputs": [
    {
     "data": {
      "text/html": [
       "<div>\n",
       "<style scoped>\n",
       "    .dataframe tbody tr th:only-of-type {\n",
       "        vertical-align: middle;\n",
       "    }\n",
       "\n",
       "    .dataframe tbody tr th {\n",
       "        vertical-align: top;\n",
       "    }\n",
       "\n",
       "    .dataframe thead th {\n",
       "        text-align: right;\n",
       "    }\n",
       "</style>\n",
       "<table border=\"1\" class=\"dataframe\">\n",
       "  <thead>\n",
       "    <tr style=\"text-align: right;\">\n",
       "      <th></th>\n",
       "      <th>actual</th>\n",
       "      <th>alive</th>\n",
       "      <th>title</th>\n",
       "      <th>male</th>\n",
       "      <th>culture</th>\n",
       "      <th>mother</th>\n",
       "      <th>father</th>\n",
       "      <th>heir</th>\n",
       "      <th>house</th>\n",
       "      <th>spouse</th>\n",
       "      <th>book1</th>\n",
       "      <th>book2</th>\n",
       "      <th>book3</th>\n",
       "      <th>book4</th>\n",
       "      <th>book5</th>\n",
       "      <th>isAliveMother</th>\n",
       "      <th>isAliveFather</th>\n",
       "      <th>isAliveHeir</th>\n",
       "      <th>isAliveSpouse</th>\n",
       "      <th>isMarried</th>\n",
       "      <th>isNoble</th>\n",
       "      <th>age</th>\n",
       "      <th>numDeadRelations</th>\n",
       "      <th>boolDeadRelations</th>\n",
       "      <th>isPopular</th>\n",
       "      <th>popularity</th>\n",
       "      <th>isAlive</th>\n",
       "    </tr>\n",
       "  </thead>\n",
       "  <tbody>\n",
       "    <tr>\n",
       "      <th>0</th>\n",
       "      <td>0</td>\n",
       "      <td>0.054</td>\n",
       "      <td>NaN</td>\n",
       "      <td>1</td>\n",
       "      <td>NaN</td>\n",
       "      <td>Rhaenyra Targaryen</td>\n",
       "      <td>Daemon Targaryen</td>\n",
       "      <td>Aegon IV Targaryen</td>\n",
       "      <td>NaN</td>\n",
       "      <td>NaN</td>\n",
       "      <td>0</td>\n",
       "      <td>0</td>\n",
       "      <td>0</td>\n",
       "      <td>0</td>\n",
       "      <td>0</td>\n",
       "      <td>1.0</td>\n",
       "      <td>0.0</td>\n",
       "      <td>0.0</td>\n",
       "      <td>NaN</td>\n",
       "      <td>0</td>\n",
       "      <td>0</td>\n",
       "      <td>NaN</td>\n",
       "      <td>11</td>\n",
       "      <td>1</td>\n",
       "      <td>1</td>\n",
       "      <td>0.605351</td>\n",
       "      <td>0</td>\n",
       "    </tr>\n",
       "    <tr>\n",
       "      <th>1</th>\n",
       "      <td>1</td>\n",
       "      <td>0.387</td>\n",
       "      <td>Lord of the Crossing</td>\n",
       "      <td>1</td>\n",
       "      <td>Rivermen</td>\n",
       "      <td>NaN</td>\n",
       "      <td>NaN</td>\n",
       "      <td>NaN</td>\n",
       "      <td>House Frey</td>\n",
       "      <td>Perra Royce</td>\n",
       "      <td>1</td>\n",
       "      <td>1</td>\n",
       "      <td>1</td>\n",
       "      <td>1</td>\n",
       "      <td>1</td>\n",
       "      <td>NaN</td>\n",
       "      <td>NaN</td>\n",
       "      <td>NaN</td>\n",
       "      <td>1.0</td>\n",
       "      <td>1</td>\n",
       "      <td>1</td>\n",
       "      <td>97.0</td>\n",
       "      <td>1</td>\n",
       "      <td>1</td>\n",
       "      <td>1</td>\n",
       "      <td>0.896321</td>\n",
       "      <td>1</td>\n",
       "    </tr>\n",
       "    <tr>\n",
       "      <th>2</th>\n",
       "      <td>1</td>\n",
       "      <td>0.493</td>\n",
       "      <td>Ser</td>\n",
       "      <td>1</td>\n",
       "      <td>NaN</td>\n",
       "      <td>NaN</td>\n",
       "      <td>NaN</td>\n",
       "      <td>NaN</td>\n",
       "      <td>House Swyft</td>\n",
       "      <td>NaN</td>\n",
       "      <td>0</td>\n",
       "      <td>0</td>\n",
       "      <td>0</td>\n",
       "      <td>1</td>\n",
       "      <td>0</td>\n",
       "      <td>NaN</td>\n",
       "      <td>NaN</td>\n",
       "      <td>NaN</td>\n",
       "      <td>NaN</td>\n",
       "      <td>0</td>\n",
       "      <td>1</td>\n",
       "      <td>NaN</td>\n",
       "      <td>0</td>\n",
       "      <td>0</td>\n",
       "      <td>0</td>\n",
       "      <td>0.267559</td>\n",
       "      <td>1</td>\n",
       "    </tr>\n",
       "    <tr>\n",
       "      <th>3</th>\n",
       "      <td>0</td>\n",
       "      <td>0.076</td>\n",
       "      <td>Queen</td>\n",
       "      <td>0</td>\n",
       "      <td>NaN</td>\n",
       "      <td>NaN</td>\n",
       "      <td>NaN</td>\n",
       "      <td>NaN</td>\n",
       "      <td>House Arryn</td>\n",
       "      <td>Viserys I Targaryen</td>\n",
       "      <td>0</td>\n",
       "      <td>0</td>\n",
       "      <td>0</td>\n",
       "      <td>0</td>\n",
       "      <td>0</td>\n",
       "      <td>NaN</td>\n",
       "      <td>NaN</td>\n",
       "      <td>NaN</td>\n",
       "      <td>0.0</td>\n",
       "      <td>1</td>\n",
       "      <td>1</td>\n",
       "      <td>23.0</td>\n",
       "      <td>0</td>\n",
       "      <td>0</td>\n",
       "      <td>0</td>\n",
       "      <td>0.183946</td>\n",
       "      <td>0</td>\n",
       "    </tr>\n",
       "    <tr>\n",
       "      <th>4</th>\n",
       "      <td>1</td>\n",
       "      <td>0.617</td>\n",
       "      <td>Greenstone</td>\n",
       "      <td>0</td>\n",
       "      <td>Dornish</td>\n",
       "      <td>NaN</td>\n",
       "      <td>NaN</td>\n",
       "      <td>NaN</td>\n",
       "      <td>House Santagar</td>\n",
       "      <td>Eldon Estermont</td>\n",
       "      <td>0</td>\n",
       "      <td>0</td>\n",
       "      <td>0</td>\n",
       "      <td>1</td>\n",
       "      <td>0</td>\n",
       "      <td>NaN</td>\n",
       "      <td>NaN</td>\n",
       "      <td>NaN</td>\n",
       "      <td>1.0</td>\n",
       "      <td>1</td>\n",
       "      <td>1</td>\n",
       "      <td>29.0</td>\n",
       "      <td>0</td>\n",
       "      <td>0</td>\n",
       "      <td>0</td>\n",
       "      <td>0.043478</td>\n",
       "      <td>1</td>\n",
       "    </tr>\n",
       "  </tbody>\n",
       "</table>\n",
       "</div>"
      ],
      "text/plain": [
       "   actual  alive                 title  ...  isPopular popularity isAlive\n",
       "0       0  0.054                   NaN  ...          1   0.605351       0\n",
       "1       1  0.387  Lord of the Crossing  ...          1   0.896321       1\n",
       "2       1  0.493                   Ser  ...          0   0.267559       1\n",
       "3       0  0.076                 Queen  ...          0   0.183946       0\n",
       "4       1  0.617            Greenstone  ...          0   0.043478       1\n",
       "\n",
       "[5 rows x 27 columns]"
      ]
     },
     "execution_count": 8,
     "metadata": {
      "tags": []
     },
     "output_type": "execute_result"
    }
   ],
   "source": [
    "data.head()"
   ]
  },
  {
   "cell_type": "markdown",
   "metadata": {
    "colab_type": "text",
    "id": "Qr3Evb23932t"
   },
   "source": [
    "Видим несколько колонок текстовых переменных. Посмотрим, сколько всего таких - выведем типы данных в каждой колонке."
   ]
  },
  {
   "cell_type": "code",
   "execution_count": 9,
   "metadata": {
    "colab": {
     "base_uri": "https://localhost:8080/",
     "height": 534
    },
    "colab_type": "code",
    "executionInfo": {
     "elapsed": 24080,
     "status": "ok",
     "timestamp": 1571491731754,
     "user": {
      "displayName": "Иван Романов",
      "photoUrl": "",
      "userId": "05119643280596747163"
     },
     "user_tz": -180
    },
    "id": "LUdNzhZB932v",
    "outputId": "e94ab5cb-ebc7-4d62-daa8-8aac28d44656"
   },
   "outputs": [
    {
     "data": {
      "text/plain": [
       "actual                 int64\n",
       "alive                float64\n",
       "title                 object\n",
       "male                   int64\n",
       "culture               object\n",
       "mother                object\n",
       "father                object\n",
       "heir                  object\n",
       "house                 object\n",
       "spouse                object\n",
       "book1                  int64\n",
       "book2                  int64\n",
       "book3                  int64\n",
       "book4                  int64\n",
       "book5                  int64\n",
       "isAliveMother        float64\n",
       "isAliveFather        float64\n",
       "isAliveHeir          float64\n",
       "isAliveSpouse        float64\n",
       "isMarried              int64\n",
       "isNoble                int64\n",
       "age                  float64\n",
       "numDeadRelations       int64\n",
       "boolDeadRelations      int64\n",
       "isPopular              int64\n",
       "popularity           float64\n",
       "isAlive                int64\n",
       "dtype: object"
      ]
     },
     "execution_count": 9,
     "metadata": {
      "tags": []
     },
     "output_type": "execute_result"
    }
   ],
   "source": [
    "data.dtypes"
   ]
  },
  {
   "cell_type": "markdown",
   "metadata": {
    "colab_type": "text",
    "id": "W_eEdYYy9322"
   },
   "source": [
    "Текстовые признаки математическим методом не обработаешь. Посмотрим на значения, которые они принимают, чтобы придумать, что с ними делать."
   ]
  },
  {
   "cell_type": "code",
   "execution_count": 10,
   "metadata": {
    "colab": {
     "base_uri": "https://localhost:8080/",
     "height": 1000
    },
    "colab_type": "code",
    "executionInfo": {
     "elapsed": 24071,
     "status": "ok",
     "timestamp": 1571491731754,
     "user": {
      "displayName": "Иван Романов",
      "photoUrl": "",
      "userId": "05119643280596747163"
     },
     "user_tz": -180
    },
    "id": "hQ4ZjpTo9322",
    "outputId": "cda075e0-ee67-4573-e9a7-86ad9934ef5d"
   },
   "outputs": [
    {
     "data": {
      "text/plain": [
       "Ser                                       384\n",
       "Maester                                    39\n",
       "Archmaester                                21\n",
       "Lord                                       20\n",
       "Septon                                     18\n",
       "Winterfell                                 17\n",
       "Princess                                   16\n",
       "Lady                                       12\n",
       "Septa                                      10\n",
       "Lord Commander of the Night's Watch         9\n",
       "King in the North                           9\n",
       "Prince                                      9\n",
       "Cupbearer                                   8\n",
       "Grand Maester                               8\n",
       "Khal                                        7\n",
       "Bloodrider                                  6\n",
       "Knight                                      5\n",
       "Prince of Dragonstone                       5\n",
       "Wisdom                                      5\n",
       "Eyrie                                       5\n",
       "Casterly Rock                               5\n",
       "King-Beyond-the-Wall                        5\n",
       "Hand of the King                            4\n",
       "Harrenhal                                   4\n",
       "Lord of the Tides                           4\n",
       "Last Hearth                                 3\n",
       "First Ranger                                3\n",
       "Lord Paramount of the Mander                3\n",
       "Lord of Harrenhal                           3\n",
       "PrincessQueen                               3\n",
       "                                         ... \n",
       "Blacktyde                                   1\n",
       "master of ships                             1\n",
       "Blue Grace                                  1\n",
       "Wind Witch                                  1\n",
       "The LiddleLord Liddle                       1\n",
       "Seven Kingdoms                              1\n",
       "Lord Captain of the Iron Fleet              1\n",
       "Ghost Hill                                  1\n",
       "Oarmaster                                   1\n",
       "Arbor                                       1\n",
       "Ruddy Hall                                  1\n",
       "Lord Steward of the Iron Islands            1\n",
       "Kayce                                       1\n",
       "Lord of Kingsgrave                          1\n",
       "QueenBlack Bride                            1\n",
       "Lord of Sunflower Hall                      1\n",
       "Dyre Den                                    1\n",
       "Vaith                                       1\n",
       "Cobblecat                                   1\n",
       "Three Sisters                               1\n",
       "Lord of the Crossing                        1\n",
       "Prince of WinterfellHeir to Winterfell      1\n",
       "Twins                                       1\n",
       "High Septon                                 1\n",
       "Sharp Point                                 1\n",
       "Strongsong                                  1\n",
       "green lands                                 1\n",
       "Master of Whisperers                        1\n",
       "First Builder                               1\n",
       "Lady of Bear Island                         1\n",
       "Name: title, Length: 262, dtype: int64"
      ]
     },
     "execution_count": 10,
     "metadata": {
      "tags": []
     },
     "output_type": "execute_result"
    }
   ],
   "source": [
    "data['title'].value_counts()"
   ]
  },
  {
   "cell_type": "markdown",
   "metadata": {
    "colab_type": "text",
    "id": "fv2w7fUb9326"
   },
   "source": [
    "Чем больше группа - тем больше вероятность того, что хоть кто-то в ней будет убит. Давайте заменим значения этого признака на количество героев в группе."
   ]
  },
  {
   "cell_type": "code",
   "execution_count": 0,
   "metadata": {
    "colab": {},
    "colab_type": "code",
    "id": "A8NxpihS9327"
   },
   "outputs": [],
   "source": [
    "# запишем в переменную значения функции value_counts. Обращаться к ним можно по принципу словаря\n",
    "counts = data['title'].value_counts()\n",
    "# Создадим функцию, которая будет принимать на вход титул героя, а возвращать значение из переменной counts.\n",
    "# Обратите внимание, в результате value_counts нет поля для nan. Эти значения придется прописать отдельно.\n",
    "nan_count = data['title'].isnull().sum()\n",
    "def replace_title(title):\n",
    "    if pd.isnull(title):\n",
    "        return nan_count\n",
    "    return counts[title]\n",
    "# А теперь заменим значения столбца title, применив эту функцию к его текущим значениям с помощью метода apply:\n",
    "data['title'] = data['title'].apply(replace_title)"
   ]
  },
  {
   "cell_type": "markdown",
   "metadata": {
    "colab_type": "text",
    "id": "xKU_ilXY933A"
   },
   "source": [
    "## Важно!\n",
    "* На предыдущем шаге была допущена принципиальная ошибка, попробуйте понять, какая. Она была допущена умышленно, чтобы не мучить вас пока излишним питоном."
   ]
  },
  {
   "cell_type": "markdown",
   "metadata": {
    "colab_type": "text",
    "id": "oWQPNWG5933C"
   },
   "source": [
    "Если в книгах были указаны родственные связи героя, то это тоже может повлиять на исход его жизни. Закодируем бинарно наличие матери и наличие отца в тексте книг."
   ]
  },
  {
   "cell_type": "code",
   "execution_count": 0,
   "metadata": {
    "colab": {},
    "colab_type": "code",
    "id": "JocbnvPN933D"
   },
   "outputs": [],
   "source": [
    "def has_parent(parent):\n",
    "    if pd.isnull(parent):\n",
    "        return 0\n",
    "    return 1\n",
    "\n",
    "data['mother'] = data['mother'].apply(has_parent)\n",
    "data['father'] = data['father'].apply(has_parent)"
   ]
  },
  {
   "cell_type": "markdown",
   "metadata": {
    "colab_type": "text",
    "id": "Aob6QanK933I"
   },
   "source": [
    "В остальных текстовых переменных разброс значений более равномерный, поэтому дропнем их за ненадобностью."
   ]
  },
  {
   "cell_type": "code",
   "execution_count": 0,
   "metadata": {
    "colab": {},
    "colab_type": "code",
    "id": "rXaOClrW933K"
   },
   "outputs": [],
   "source": [
    "data = data.drop(['culture', 'heir', 'house', 'spouse'], axis='columns')"
   ]
  },
  {
   "cell_type": "markdown",
   "metadata": {
    "colab_type": "text",
    "id": "xqhGceVg933N"
   },
   "source": [
    "У нас осталась единственная проблема с данными - пропущенные значения. Есть несколько подходов к заполнению пропусков - они показаны в презентации. Посмотрим, в каких колонках есть пропущенные значения."
   ]
  },
  {
   "cell_type": "code",
   "execution_count": 14,
   "metadata": {
    "colab": {
     "base_uri": "https://localhost:8080/",
     "height": 460
    },
    "colab_type": "code",
    "executionInfo": {
     "elapsed": 24050,
     "status": "ok",
     "timestamp": 1571491731757,
     "user": {
      "displayName": "Иван Романов",
      "photoUrl": "",
      "userId": "05119643280596747163"
     },
     "user_tz": -180
    },
    "id": "SpTYR9V2933O",
    "outputId": "423c2302-10c2-4440-8ef5-cfa8deda558c"
   },
   "outputs": [
    {
     "data": {
      "text/plain": [
       "actual               False\n",
       "alive                False\n",
       "title                False\n",
       "male                 False\n",
       "mother               False\n",
       "father               False\n",
       "book1                False\n",
       "book2                False\n",
       "book3                False\n",
       "book4                False\n",
       "book5                False\n",
       "isAliveMother         True\n",
       "isAliveFather         True\n",
       "isAliveHeir           True\n",
       "isAliveSpouse         True\n",
       "isMarried            False\n",
       "isNoble              False\n",
       "age                   True\n",
       "numDeadRelations     False\n",
       "boolDeadRelations    False\n",
       "isPopular            False\n",
       "popularity           False\n",
       "isAlive              False\n",
       "dtype: bool"
      ]
     },
     "execution_count": 14,
     "metadata": {
      "tags": []
     },
     "output_type": "execute_result"
    }
   ],
   "source": [
    "data.isna().any()"
   ]
  },
  {
   "cell_type": "markdown",
   "metadata": {
    "colab_type": "text",
    "id": "Zu5RfbOL933T"
   },
   "source": [
    "Четыре из этих признаков - бинарные. Преобразоуем nan'ы в нечто равноудаленное от 0 и 1:"
   ]
  },
  {
   "cell_type": "code",
   "execution_count": 0,
   "metadata": {
    "colab": {},
    "colab_type": "code",
    "id": "LLOaal17933U"
   },
   "outputs": [],
   "source": [
    "def binary_nans(value):\n",
    "    if pd.isnull(value):\n",
    "        return 0.5\n",
    "    return value\n",
    "\n",
    "for col in ['isAliveMother', 'isAliveFather', 'isAliveHeir', 'isAliveSpouse']:\n",
    "    data[col] = data[col].apply(binary_nans)"
   ]
  },
  {
   "cell_type": "markdown",
   "metadata": {
    "colab_type": "text",
    "id": "Y_fwMwVd933Z"
   },
   "source": [
    "Отлично, теперь посмотрим на оставшийся признак age:"
   ]
  },
  {
   "cell_type": "code",
   "execution_count": 16,
   "metadata": {
    "colab": {
     "base_uri": "https://localhost:8080/",
     "height": 835
    },
    "colab_type": "code",
    "executionInfo": {
     "elapsed": 24302,
     "status": "ok",
     "timestamp": 1571491732020,
     "user": {
      "displayName": "Иван Романов",
      "photoUrl": "",
      "userId": "05119643280596747163"
     },
     "user_tz": -180
    },
    "id": "94NffR2i933a",
    "outputId": "618964df-0cbf-46c5-8ec1-7e2c8a91383c"
   },
   "outputs": [
    {
     "data": {
      "text/plain": [
       "<matplotlib.axes._subplots.AxesSubplot at 0x7f7445332320>"
      ]
     },
     "execution_count": 16,
     "metadata": {
      "tags": []
     },
     "output_type": "execute_result"
    },
    {
     "data": {
      "image/png": "[encoded data removed]",
      "text/plain": [
       "<Figure size 864x1008 with 1 Axes>"
      ]
     },
     "metadata": {
      "tags": []
     },
     "output_type": "display_data"
    }
   ],
   "source": [
    "data['age'].plot()"
   ]
  },
  {
   "cell_type": "markdown",
   "metadata": {
    "colab_type": "text",
    "id": "u8XF-2hl933e"
   },
   "source": [
    "Что-то здесь неладно: видно двух персонажей с отрицательным возрастом."
   ]
  },
  {
   "cell_type": "code",
   "execution_count": 17,
   "metadata": {
    "colab": {
     "base_uri": "https://localhost:8080/",
     "height": 132
    },
    "colab_type": "code",
    "executionInfo": {
     "elapsed": 24294,
     "status": "ok",
     "timestamp": 1571491732021,
     "user": {
      "displayName": "Иван Романов",
      "photoUrl": "",
      "userId": "05119643280596747163"
     },
     "user_tz": -180
    },
    "id": "tV4cJ1Wj933g",
    "outputId": "09222f24-94c4-43f6-ee17-75e9b84dc821"
   },
   "outputs": [
    {
     "data": {
      "text/html": [
       "<div>\n",
       "<style scoped>\n",
       "    .dataframe tbody tr th:only-of-type {\n",
       "        vertical-align: middle;\n",
       "    }\n",
       "\n",
       "    .dataframe tbody tr th {\n",
       "        vertical-align: top;\n",
       "    }\n",
       "\n",
       "    .dataframe thead th {\n",
       "        text-align: right;\n",
       "    }\n",
       "</style>\n",
       "<table border=\"1\" class=\"dataframe\">\n",
       "  <thead>\n",
       "    <tr style=\"text-align: right;\">\n",
       "      <th></th>\n",
       "      <th>actual</th>\n",
       "      <th>alive</th>\n",
       "      <th>title</th>\n",
       "      <th>male</th>\n",
       "      <th>mother</th>\n",
       "      <th>father</th>\n",
       "      <th>book1</th>\n",
       "      <th>book2</th>\n",
       "      <th>book3</th>\n",
       "      <th>book4</th>\n",
       "      <th>book5</th>\n",
       "      <th>isAliveMother</th>\n",
       "      <th>isAliveFather</th>\n",
       "      <th>isAliveHeir</th>\n",
       "      <th>isAliveSpouse</th>\n",
       "      <th>isMarried</th>\n",
       "      <th>isNoble</th>\n",
       "      <th>age</th>\n",
       "      <th>numDeadRelations</th>\n",
       "      <th>boolDeadRelations</th>\n",
       "      <th>isPopular</th>\n",
       "      <th>popularity</th>\n",
       "      <th>isAlive</th>\n",
       "    </tr>\n",
       "  </thead>\n",
       "  <tbody>\n",
       "    <tr>\n",
       "      <th>1684</th>\n",
       "      <td>0</td>\n",
       "      <td>0.253</td>\n",
       "      <td>1008</td>\n",
       "      <td>0</td>\n",
       "      <td>0</td>\n",
       "      <td>0</td>\n",
       "      <td>1</td>\n",
       "      <td>1</td>\n",
       "      <td>0</td>\n",
       "      <td>0</td>\n",
       "      <td>1</td>\n",
       "      <td>0.5</td>\n",
       "      <td>0.5</td>\n",
       "      <td>0.5</td>\n",
       "      <td>0.5</td>\n",
       "      <td>0</td>\n",
       "      <td>0</td>\n",
       "      <td>-277980.0</td>\n",
       "      <td>0</td>\n",
       "      <td>0</td>\n",
       "      <td>0</td>\n",
       "      <td>0.110368</td>\n",
       "      <td>0</td>\n",
       "    </tr>\n",
       "    <tr>\n",
       "      <th>1868</th>\n",
       "      <td>0</td>\n",
       "      <td>0.360</td>\n",
       "      <td>1008</td>\n",
       "      <td>0</td>\n",
       "      <td>0</td>\n",
       "      <td>0</td>\n",
       "      <td>1</td>\n",
       "      <td>1</td>\n",
       "      <td>1</td>\n",
       "      <td>1</td>\n",
       "      <td>0</td>\n",
       "      <td>0.5</td>\n",
       "      <td>0.5</td>\n",
       "      <td>0.5</td>\n",
       "      <td>0.5</td>\n",
       "      <td>0</td>\n",
       "      <td>0</td>\n",
       "      <td>-298001.0</td>\n",
       "      <td>6</td>\n",
       "      <td>1</td>\n",
       "      <td>0</td>\n",
       "      <td>0.167224</td>\n",
       "      <td>0</td>\n",
       "    </tr>\n",
       "  </tbody>\n",
       "</table>\n",
       "</div>"
      ],
      "text/plain": [
       "      actual  alive  title  ...  isPopular  popularity  isAlive\n",
       "1684       0  0.253   1008  ...          0    0.110368        0\n",
       "1868       0  0.360   1008  ...          0    0.167224        0\n",
       "\n",
       "[2 rows x 23 columns]"
      ]
     },
     "execution_count": 17,
     "metadata": {
      "tags": []
     },
     "output_type": "execute_result"
    }
   ],
   "source": [
    "data[data['age'] < 0]"
   ]
  },
  {
   "cell_type": "markdown",
   "metadata": {
    "colab_type": "text",
    "id": "eHHGNuW2933j"
   },
   "source": [
    "Чтобы пока не ломать голову, приведем эти значения к nan:"
   ]
  },
  {
   "cell_type": "code",
   "execution_count": 18,
   "metadata": {
    "colab": {
     "base_uri": "https://localhost:8080/",
     "height": 109
    },
    "colab_type": "code",
    "executionInfo": {
     "elapsed": 24601,
     "status": "ok",
     "timestamp": 1571491732340,
     "user": {
      "displayName": "Иван Романов",
      "photoUrl": "",
      "userId": "05119643280596747163"
     },
     "user_tz": -180
    },
    "id": "hxPcjQiW933k",
    "outputId": "3762ffce-677b-4869-8542-02748e20434f"
   },
   "outputs": [
    {
     "name": "stderr",
     "output_type": "stream",
     "text": [
      "/usr/local/lib/python3.6/dist-packages/ipykernel_launcher.py:1: SettingWithCopyWarning: \n",
      "A value is trying to be set on a copy of a slice from a DataFrame\n",
      "\n",
      "See the caveats in the documentation: http://pandas.pydata.org/pandas-docs/stable/indexing.html#indexing-view-versus-copy\n",
      "  \"\"\"Entry point for launching an IPython kernel.\n"
     ]
    }
   ],
   "source": [
    "data['age'][[1684, 1868]] = np.nan"
   ]
  },
  {
   "cell_type": "markdown",
   "metadata": {
    "colab_type": "text",
    "id": "550LhkY6933w"
   },
   "source": [
    "Глянем на плотность распределения возрастов."
   ]
  },
  {
   "cell_type": "code",
   "execution_count": 19,
   "metadata": {
    "colab": {
     "base_uri": "https://localhost:8080/",
     "height": 835
    },
    "colab_type": "code",
    "executionInfo": {
     "elapsed": 24998,
     "status": "ok",
     "timestamp": 1571491732747,
     "user": {
      "displayName": "Иван Романов",
      "photoUrl": "",
      "userId": "05119643280596747163"
     },
     "user_tz": -180
    },
    "id": "v7auQo91933w",
    "outputId": "93509ab9-6167-4456-a71a-79ddf78750a1"
   },
   "outputs": [
    {
     "data": {
      "text/plain": [
       "<matplotlib.axes._subplots.AxesSubplot at 0x7f7447bb2898>"
      ]
     },
     "execution_count": 19,
     "metadata": {
      "tags": []
     },
     "output_type": "execute_result"
    },
    {
     "data": {
      "image/png": "[encoded data removed]",
      "text/plain": [
       "<Figure size 864x1008 with 1 Axes>"
      ]
     },
     "metadata": {
      "tags": []
     },
     "output_type": "display_data"
    }
   ],
   "source": [
    "data['age'].hist()"
   ]
  },
  {
   "cell_type": "markdown",
   "metadata": {
    "colab_type": "text",
    "id": "jp1GmoSy933z"
   },
   "source": [
    "С распределением всё понятно, а у скольких героев возраст не указан?"
   ]
  },
  {
   "cell_type": "code",
   "execution_count": 20,
   "metadata": {
    "colab": {
     "base_uri": "https://localhost:8080/",
     "height": 35
    },
    "colab_type": "code",
    "executionInfo": {
     "elapsed": 24992,
     "status": "ok",
     "timestamp": 1571491732749,
     "user": {
      "displayName": "Иван Романов",
      "photoUrl": "",
      "userId": "05119643280596747163"
     },
     "user_tz": -180
    },
    "id": "OaT_gg8A9331",
    "outputId": "9d48a384-0154-4342-bced-e7ee95bcdc46"
   },
   "outputs": [
    {
     "data": {
      "text/plain": [
       "1515"
      ]
     },
     "execution_count": 20,
     "metadata": {
      "tags": []
     },
     "output_type": "execute_result"
    }
   ],
   "source": [
    "data['age'].isnull().sum()"
   ]
  },
  {
   "cell_type": "markdown",
   "metadata": {
    "colab_type": "text",
    "id": "2cfkt_0l9333"
   },
   "source": [
    "Всего героев около 2000. И для 3/4 из них признак возраста имеет одно и то же значение. Взглянем, коррелирует ли он с целевой переменной."
   ]
  },
  {
   "cell_type": "code",
   "execution_count": 21,
   "metadata": {
    "colab": {
     "base_uri": "https://localhost:8080/",
     "height": 54
    },
    "colab_type": "code",
    "executionInfo": {
     "elapsed": 24982,
     "status": "ok",
     "timestamp": 1571491732749,
     "user": {
      "displayName": "Иван Романов",
      "photoUrl": "",
      "userId": "05119643280596747163"
     },
     "user_tz": -180
    },
    "id": "pgmzrX0x9335",
    "outputId": "02bec6f1-b9f9-48a3-ed27-087b74c23452"
   },
   "outputs": [
    {
     "data": {
      "text/plain": [
       "array([[1.       , 0.1459652],\n",
       "       [0.1459652, 1.       ]])"
      ]
     },
     "execution_count": 21,
     "metadata": {
      "tags": []
     },
     "output_type": "execute_result"
    }
   ],
   "source": [
    "np.corrcoef(data['age'].isnull(), data['isAlive'])"
   ]
  },
  {
   "cell_type": "code",
   "execution_count": 22,
   "metadata": {
    "colab": {
     "base_uri": "https://localhost:8080/",
     "height": 54
    },
    "colab_type": "code",
    "executionInfo": {
     "elapsed": 24975,
     "status": "ok",
     "timestamp": 1571491732750,
     "user": {
      "displayName": "Иван Романов",
      "photoUrl": "",
      "userId": "05119643280596747163"
     },
     "user_tz": -180
    },
    "id": "FGWYC0ec934B",
    "outputId": "00f3964e-3b13-4e87-f1b1-2b61b053c09f"
   },
   "outputs": [
    {
     "data": {
      "text/plain": [
       "array([[ 1.        , -0.27110922],\n",
       "       [-0.27110922,  1.        ]])"
      ]
     },
     "execution_count": 22,
     "metadata": {
      "tags": []
     },
     "output_type": "execute_result"
    }
   ],
   "source": [
    "np.corrcoef(data['age'][~data['age'].isnull()], data['isAlive'][~data['age'].isnull()])"
   ]
  },
  {
   "cell_type": "markdown",
   "metadata": {
    "colab_type": "text",
    "id": "2pETZP4A934F"
   },
   "source": [
    "Ни отсутствие возраста, ни конкретные значения не дают прямую зависимость с фактом неумерщвления персонажа. Уберем признак возраста."
   ]
  },
  {
   "cell_type": "code",
   "execution_count": 0,
   "metadata": {
    "colab": {},
    "colab_type": "code",
    "id": "p7-YOq8R934G"
   },
   "outputs": [],
   "source": [
    "data = data.drop('age', axis='columns')"
   ]
  },
  {
   "cell_type": "markdown",
   "metadata": {
    "colab_type": "text",
    "id": "zDKwx91V934K"
   },
   "source": [
    "## Настало время machine learning"
   ]
  },
  {
   "cell_type": "markdown",
   "metadata": {
    "colab_type": "text",
    "id": "RXz8s7ni934K"
   },
   "source": [
    "Выделим в нашей выборке целевую переменную, а также разделим ее на тренировочную и тестовую."
   ]
  },
  {
   "cell_type": "code",
   "execution_count": 0,
   "metadata": {
    "colab": {},
    "colab_type": "code",
    "id": "IbIkz8gB934K"
   },
   "outputs": [],
   "source": [
    "X = data[data.columns[:-1]]\n",
    "y = data['isAlive']\n",
    "\n",
    "from sklearn.model_selection import train_test_split\n",
    "X_train, X_test, y_train, y_test = train_test_split(X, y)"
   ]
  },
  {
   "cell_type": "markdown",
   "metadata": {
    "colab_type": "text",
    "id": "COI5J1kn934N"
   },
   "source": [
    "Пора заняться делом. Будем проводить классификацию с помощью метода ближайших соседей."
   ]
  },
  {
   "cell_type": "code",
   "execution_count": 25,
   "metadata": {
    "colab": {
     "base_uri": "https://localhost:8080/",
     "height": 35
    },
    "colab_type": "code",
    "executionInfo": {
     "elapsed": 627,
     "status": "ok",
     "timestamp": 1571491744684,
     "user": {
      "displayName": "Иван Романов",
      "photoUrl": "",
      "userId": "05119643280596747163"
     },
     "user_tz": -180
    },
    "id": "yuxbUDgM934N",
    "outputId": "8f29fe46-4c8f-4d99-b6c3-c5fb5c603cd7"
   },
   "outputs": [
    {
     "data": {
      "text/plain": [
       "0.9568788501026694"
      ]
     },
     "execution_count": 25,
     "metadata": {
      "tags": []
     },
     "output_type": "execute_result"
    }
   ],
   "source": [
    "# импортируем класс классификатора по ближайшим соседям\n",
    "from sklearn.neighbors import KNeighborsClassifier\n",
    "\n",
    "# создадим наш классификатор. Гиперпараметр у этого алгоритма один - количество соседей.\n",
    "clf = KNeighborsClassifier(n_neighbors=5)\n",
    "# обучим классификатор на тренировочной выборке\n",
    "clf.fit(X_train, y_train)\n",
    "# подсчитаем долю верных ответов алгоритма на тестовой выборке.\n",
    "# Есть и другие метрики качества - о них будет рассказано на следующей лабе\n",
    "clf.score(X_test, y_test)"
   ]
  },
  {
   "cell_type": "markdown",
   "metadata": {
    "colab_type": "text",
    "id": "SHCbtBvp934P"
   },
   "source": [
    "Посмотрим, как влияет гиперпараметр на качество классификации."
   ]
  },
  {
   "cell_type": "code",
   "execution_count": 26,
   "metadata": {
    "colab": {
     "base_uri": "https://localhost:8080/",
     "height": 834
    },
    "colab_type": "code",
    "executionInfo": {
     "elapsed": 5594,
     "status": "ok",
     "timestamp": 1571491751521,
     "user": {
      "displayName": "Иван Романов",
      "photoUrl": "",
      "userId": "05119643280596747163"
     },
     "user_tz": -180
    },
    "id": "TkEdENqr934Q",
    "outputId": "c1268282-e56d-45b2-88f3-e2668b8eb142"
   },
   "outputs": [
    {
     "data": {
      "image/png": "[encoded data removed]",
      "text/plain": [
       "<Figure size 864x1008 with 1 Axes>"
      ]
     },
     "metadata": {
      "tags": []
     },
     "output_type": "display_data"
    }
   ],
   "source": [
    "# Создадим пустой словарь. Будем добавлять в него значения наших \"скоров\". Ключами будет значение гиперпараметра,\n",
    "# значениями - качество работы. Рассмотрим отдельно качество на тренировочной выборке и на тестовой.\n",
    "train_scores = {}\n",
    "test_scores = {}\n",
    "\n",
    "# для n в диапазоне от 1 до 40 включительно\n",
    "for n in range(1, 41):\n",
    "    clf = KNeighborsClassifier(n_neighbors=n)\n",
    "    clf.fit(X_train, y_train)\n",
    "    # значение качества на текущей итерации:\n",
    "    current_train_score = clf.score(X_train, y_train)\n",
    "    current_test_score = clf.score(X_test, y_test)\n",
    "    # запишем его в наши словари\n",
    "    train_scores[n] = current_train_score\n",
    "    test_scores[n] = current_test_score\n",
    "\n",
    "# нарисуем графики\n",
    "\n",
    "plt.plot(train_scores.keys(), train_scores.values(), label='Обучающая выборка')\n",
    "plt.plot(test_scores.keys(), test_scores.values(), label='Тестовая выборка')\n",
    "plt.xlabel('Количество соседей')\n",
    "plt.ylabel('Доля верных ответов')\n",
    "plt.legend()\n",
    "plt.show()"
   ]
  },
  {
   "cell_type": "markdown",
   "metadata": {
    "colab_type": "text",
    "id": "G6rVT5JR934T"
   },
   "source": [
    "Какое количество соседей лучше всего брать для этой задачи?"
   ]
  },
  {
   "cell_type": "markdown",
   "metadata": {
    "colab_type": "text",
    "id": "RORPkqqQ934V"
   },
   "source": [
    "Сейчас мы разобрали задачу классификации. Метод ближайших соседей также применим для регрессии. В этом случае вместе KNeighborsClassifier нужно использовать KNeighborsRegressor."
   ]
  }
 ],
 "metadata": {
  "colab": {
   "collapsed_sections": [],
   "name": "L1_KNN.ipynb",
   "provenance": []
  },
  "kernelspec": {
   "display_name": "Python 3",
   "language": "python",
   "name": "python3"
  },
  "language_info": {
   "codemirror_mode": {
    "name": "ipython",
    "version": 3
   },
   "file_extension": ".py",
   "mimetype": "text/x-python",
   "name": "python",
   "nbconvert_exporter": "python",
   "pygments_lexer": "ipython3",
   "version": "3.6.8"
  }
 },
 "nbformat": 4,
 "nbformat_minor": 1
}
